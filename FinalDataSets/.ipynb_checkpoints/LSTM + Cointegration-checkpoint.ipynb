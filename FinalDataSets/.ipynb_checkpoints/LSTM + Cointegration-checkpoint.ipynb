{
 "cells": [
  {
   "cell_type": "markdown",
   "metadata": {},
   "source": [
    "# **LSTM Work/ Gold vs. Retail Relationship Work**"
   ]
  },
  {
   "cell_type": "code",
   "execution_count": 44,
   "metadata": {},
   "outputs": [],
   "source": [
    "import pandas as pd\n",
    "import numpy as np\n",
    "from pathlib import Path\n",
    "%matplotlib inline\n",
    "import matplotlib.pyplot as plt\n",
    "import statsmodels\n",
    "import statsmodels.tsa\n",
    "import statsmodels.tsa.stattools as ts \n",
    "from sklearn.preprocessing import MinMaxScaler\n",
    "from tensorflow.keras.models import Sequential\n",
    "from tensorflow.keras.layers import LSTM, Dense, Dropout\n",
    "from sklearn import metrics\n",
    "from sklearn.metrics import mean_squared_error, r2_score\n",
    "import math"
   ]
  },
  {
   "cell_type": "code",
   "execution_count": 2,
   "metadata": {},
   "outputs": [],
   "source": [
    "# DataFrame of Monthly Gold Prices 1992-2020.\n",
    "file_path=Path(\"~/git/HolidaySales/DataSets/1992_To_2020_Monthly_Gold_clean.csv\")\n",
    "full_gold_df=pd.read_csv(file_path,infer_datetime_format=True,parse_dates=True,index_col=\"DATE\")"
   ]
  },
  {
   "cell_type": "code",
   "execution_count": 3,
   "metadata": {},
   "outputs": [
    {
     "data": {
      "text/html": [
       "<div>\n",
       "<style scoped>\n",
       "    .dataframe tbody tr th:only-of-type {\n",
       "        vertical-align: middle;\n",
       "    }\n",
       "\n",
       "    .dataframe tbody tr th {\n",
       "        vertical-align: top;\n",
       "    }\n",
       "\n",
       "    .dataframe thead th {\n",
       "        text-align: right;\n",
       "    }\n",
       "</style>\n",
       "<table border=\"1\" class=\"dataframe\">\n",
       "  <thead>\n",
       "    <tr style=\"text-align: right;\">\n",
       "      <th></th>\n",
       "      <th>close</th>\n",
       "    </tr>\n",
       "    <tr>\n",
       "      <th>DATE</th>\n",
       "      <th></th>\n",
       "    </tr>\n",
       "  </thead>\n",
       "  <tbody>\n",
       "    <tr>\n",
       "      <th>1992-01-01</th>\n",
       "      <td>350.90</td>\n",
       "    </tr>\n",
       "    <tr>\n",
       "      <th>1992-02-01</th>\n",
       "      <td>356.40</td>\n",
       "    </tr>\n",
       "    <tr>\n",
       "      <th>1992-03-01</th>\n",
       "      <td>350.45</td>\n",
       "    </tr>\n",
       "    <tr>\n",
       "      <th>1992-04-01</th>\n",
       "      <td>344.00</td>\n",
       "    </tr>\n",
       "    <tr>\n",
       "      <th>1992-05-01</th>\n",
       "      <td>337.50</td>\n",
       "    </tr>\n",
       "  </tbody>\n",
       "</table>\n",
       "</div>"
      ],
      "text/plain": [
       "             close\n",
       "DATE              \n",
       "1992-01-01  350.90\n",
       "1992-02-01  356.40\n",
       "1992-03-01  350.45\n",
       "1992-04-01  344.00\n",
       "1992-05-01  337.50"
      ]
     },
     "execution_count": 3,
     "metadata": {},
     "output_type": "execute_result"
    }
   ],
   "source": [
    "full_gold_df.head()"
   ]
  },
  {
   "cell_type": "code",
   "execution_count": 4,
   "metadata": {},
   "outputs": [],
   "source": [
    "# DataFrame of ALL features not including NLP sentiment from 1992 to 2020 Monthly.\n",
    "file_path2=Path(\"~/git/HolidaySales/DataSets/features.csv\")\n",
    "features_df=pd.read_csv(file_path2,infer_datetime_format=True,parse_dates=True,index_col=\"DATE\")"
   ]
  },
  {
   "cell_type": "code",
   "execution_count": 5,
   "metadata": {},
   "outputs": [
    {
     "data": {
      "text/html": [
       "<div>\n",
       "<style scoped>\n",
       "    .dataframe tbody tr th:only-of-type {\n",
       "        vertical-align: middle;\n",
       "    }\n",
       "\n",
       "    .dataframe tbody tr th {\n",
       "        vertical-align: top;\n",
       "    }\n",
       "\n",
       "    .dataframe thead th {\n",
       "        text-align: right;\n",
       "    }\n",
       "</style>\n",
       "<table border=\"1\" class=\"dataframe\">\n",
       "  <thead>\n",
       "    <tr style=\"text-align: right;\">\n",
       "      <th></th>\n",
       "      <th>y_monthly_retail</th>\n",
       "      <th>gas_prices</th>\n",
       "      <th>consumer_sentiments</th>\n",
       "      <th>unemployment_rate</th>\n",
       "      <th>CPI</th>\n",
       "      <th>dow_index</th>\n",
       "      <th>Consumer_debt_service</th>\n",
       "      <th>Pct_chng_prv_yr</th>\n",
       "      <th>GDPC1</th>\n",
       "    </tr>\n",
       "    <tr>\n",
       "      <th>DATE</th>\n",
       "      <th></th>\n",
       "      <th></th>\n",
       "      <th></th>\n",
       "      <th></th>\n",
       "      <th></th>\n",
       "      <th></th>\n",
       "      <th></th>\n",
       "      <th></th>\n",
       "      <th></th>\n",
       "    </tr>\n",
       "  </thead>\n",
       "  <tbody>\n",
       "    <tr>\n",
       "      <th>1992-01-01</th>\n",
       "      <td>146925.0</td>\n",
       "      <td>1.02200</td>\n",
       "      <td>67.5</td>\n",
       "      <td>7.3</td>\n",
       "      <td>138.3</td>\n",
       "      <td>88.41</td>\n",
       "      <td>4.867179</td>\n",
       "      <td>2.9</td>\n",
       "      <td>9534.346</td>\n",
       "    </tr>\n",
       "    <tr>\n",
       "      <th>1992-02-01</th>\n",
       "      <td>147223.0</td>\n",
       "      <td>1.00600</td>\n",
       "      <td>68.8</td>\n",
       "      <td>7.4</td>\n",
       "      <td>138.6</td>\n",
       "      <td>89.32</td>\n",
       "      <td>4.867179</td>\n",
       "      <td>2.9</td>\n",
       "      <td>9534.346</td>\n",
       "    </tr>\n",
       "    <tr>\n",
       "      <th>1992-03-01</th>\n",
       "      <td>146805.0</td>\n",
       "      <td>1.01260</td>\n",
       "      <td>76.0</td>\n",
       "      <td>7.4</td>\n",
       "      <td>139.1</td>\n",
       "      <td>90.88</td>\n",
       "      <td>4.867179</td>\n",
       "      <td>2.9</td>\n",
       "      <td>9534.346</td>\n",
       "    </tr>\n",
       "    <tr>\n",
       "      <th>1992-04-01</th>\n",
       "      <td>148032.0</td>\n",
       "      <td>1.05175</td>\n",
       "      <td>77.2</td>\n",
       "      <td>7.4</td>\n",
       "      <td>139.4</td>\n",
       "      <td>90.33</td>\n",
       "      <td>4.774439</td>\n",
       "      <td>3.2</td>\n",
       "      <td>9637.732</td>\n",
       "    </tr>\n",
       "    <tr>\n",
       "      <th>1992-05-01</th>\n",
       "      <td>149010.0</td>\n",
       "      <td>1.10725</td>\n",
       "      <td>79.2</td>\n",
       "      <td>7.6</td>\n",
       "      <td>139.7</td>\n",
       "      <td>87.50</td>\n",
       "      <td>4.774439</td>\n",
       "      <td>3.2</td>\n",
       "      <td>9637.732</td>\n",
       "    </tr>\n",
       "  </tbody>\n",
       "</table>\n",
       "</div>"
      ],
      "text/plain": [
       "            y_monthly_retail  gas_prices  consumer_sentiments  \\\n",
       "DATE                                                            \n",
       "1992-01-01          146925.0     1.02200                 67.5   \n",
       "1992-02-01          147223.0     1.00600                 68.8   \n",
       "1992-03-01          146805.0     1.01260                 76.0   \n",
       "1992-04-01          148032.0     1.05175                 77.2   \n",
       "1992-05-01          149010.0     1.10725                 79.2   \n",
       "\n",
       "            unemployment_rate    CPI  dow_index  Consumer_debt_service  \\\n",
       "DATE                                                                     \n",
       "1992-01-01                7.3  138.3      88.41               4.867179   \n",
       "1992-02-01                7.4  138.6      89.32               4.867179   \n",
       "1992-03-01                7.4  139.1      90.88               4.867179   \n",
       "1992-04-01                7.4  139.4      90.33               4.774439   \n",
       "1992-05-01                7.6  139.7      87.50               4.774439   \n",
       "\n",
       "            Pct_chng_prv_yr     GDPC1  \n",
       "DATE                                   \n",
       "1992-01-01              2.9  9534.346  \n",
       "1992-02-01              2.9  9534.346  \n",
       "1992-03-01              2.9  9534.346  \n",
       "1992-04-01              3.2  9637.732  \n",
       "1992-05-01              3.2  9637.732  "
      ]
     },
     "execution_count": 5,
     "metadata": {},
     "output_type": "execute_result"
    }
   ],
   "source": [
    "features_df.head()"
   ]
  },
  {
   "cell_type": "code",
   "execution_count": 6,
   "metadata": {},
   "outputs": [],
   "source": [
    "# DataFrame of ALL features not including NLP sentiment from 1992 to 2020 Nov.-Dec. only.\n",
    "file_path3=Path(\"~/git/HolidaySales/nov_dec_featuress.csv\")\n",
    "features_cut_df=pd.read_csv(file_path3,infer_datetime_format=True,parse_dates=True,index_col=\"DATE\")"
   ]
  },
  {
   "cell_type": "code",
   "execution_count": 7,
   "metadata": {},
   "outputs": [
    {
     "data": {
      "text/html": [
       "<div>\n",
       "<style scoped>\n",
       "    .dataframe tbody tr th:only-of-type {\n",
       "        vertical-align: middle;\n",
       "    }\n",
       "\n",
       "    .dataframe tbody tr th {\n",
       "        vertical-align: top;\n",
       "    }\n",
       "\n",
       "    .dataframe thead th {\n",
       "        text-align: right;\n",
       "    }\n",
       "</style>\n",
       "<table border=\"1\" class=\"dataframe\">\n",
       "  <thead>\n",
       "    <tr style=\"text-align: right;\">\n",
       "      <th></th>\n",
       "      <th>y_monthly_retail</th>\n",
       "      <th>gas_prices</th>\n",
       "      <th>consumer_sentiments</th>\n",
       "      <th>unemployment_rate</th>\n",
       "      <th>CPI</th>\n",
       "      <th>dow_index</th>\n",
       "      <th>Consumer_debt_service</th>\n",
       "      <th>Pct_chng_prv_yr</th>\n",
       "      <th>GDPC1</th>\n",
       "    </tr>\n",
       "    <tr>\n",
       "      <th>DATE</th>\n",
       "      <th></th>\n",
       "      <th></th>\n",
       "      <th></th>\n",
       "      <th></th>\n",
       "      <th></th>\n",
       "      <th></th>\n",
       "      <th></th>\n",
       "      <th></th>\n",
       "      <th></th>\n",
       "    </tr>\n",
       "  </thead>\n",
       "  <tbody>\n",
       "    <tr>\n",
       "      <th>1992-11-01</th>\n",
       "      <td>153583.0</td>\n",
       "      <td>1.11120</td>\n",
       "      <td>85.3</td>\n",
       "      <td>7.4</td>\n",
       "      <td>142.1</td>\n",
       "      <td>91.12</td>\n",
       "      <td>4.660212</td>\n",
       "      <td>4.4</td>\n",
       "      <td>9834.510</td>\n",
       "    </tr>\n",
       "    <tr>\n",
       "      <th>1992-12-01</th>\n",
       "      <td>155614.0</td>\n",
       "      <td>1.07750</td>\n",
       "      <td>91.0</td>\n",
       "      <td>7.4</td>\n",
       "      <td>142.3</td>\n",
       "      <td>93.87</td>\n",
       "      <td>4.660212</td>\n",
       "      <td>4.4</td>\n",
       "      <td>9834.510</td>\n",
       "    </tr>\n",
       "    <tr>\n",
       "      <th>1993-11-01</th>\n",
       "      <td>166594.0</td>\n",
       "      <td>1.06640</td>\n",
       "      <td>81.2</td>\n",
       "      <td>6.6</td>\n",
       "      <td>146.0</td>\n",
       "      <td>96.43</td>\n",
       "      <td>4.755414</td>\n",
       "      <td>2.6</td>\n",
       "      <td>10091.049</td>\n",
       "    </tr>\n",
       "    <tr>\n",
       "      <th>1993-12-01</th>\n",
       "      <td>168161.0</td>\n",
       "      <td>1.01400</td>\n",
       "      <td>88.2</td>\n",
       "      <td>6.5</td>\n",
       "      <td>146.3</td>\n",
       "      <td>97.46</td>\n",
       "      <td>4.755414</td>\n",
       "      <td>2.6</td>\n",
       "      <td>10091.049</td>\n",
       "    </tr>\n",
       "    <tr>\n",
       "      <th>1994-11-01</th>\n",
       "      <td>180703.0</td>\n",
       "      <td>1.11575</td>\n",
       "      <td>91.6</td>\n",
       "      <td>5.6</td>\n",
       "      <td>149.8</td>\n",
       "      <td>89.19</td>\n",
       "      <td>5.120072</td>\n",
       "      <td>4.1</td>\n",
       "      <td>10506.372</td>\n",
       "    </tr>\n",
       "  </tbody>\n",
       "</table>\n",
       "</div>"
      ],
      "text/plain": [
       "            y_monthly_retail  gas_prices  consumer_sentiments  \\\n",
       "DATE                                                            \n",
       "1992-11-01          153583.0     1.11120                 85.3   \n",
       "1992-12-01          155614.0     1.07750                 91.0   \n",
       "1993-11-01          166594.0     1.06640                 81.2   \n",
       "1993-12-01          168161.0     1.01400                 88.2   \n",
       "1994-11-01          180703.0     1.11575                 91.6   \n",
       "\n",
       "            unemployment_rate    CPI  dow_index  Consumer_debt_service  \\\n",
       "DATE                                                                     \n",
       "1992-11-01                7.4  142.1      91.12               4.660212   \n",
       "1992-12-01                7.4  142.3      93.87               4.660212   \n",
       "1993-11-01                6.6  146.0      96.43               4.755414   \n",
       "1993-12-01                6.5  146.3      97.46               4.755414   \n",
       "1994-11-01                5.6  149.8      89.19               5.120072   \n",
       "\n",
       "            Pct_chng_prv_yr      GDPC1  \n",
       "DATE                                    \n",
       "1992-11-01              4.4   9834.510  \n",
       "1992-12-01              4.4   9834.510  \n",
       "1993-11-01              2.6  10091.049  \n",
       "1993-12-01              2.6  10091.049  \n",
       "1994-11-01              4.1  10506.372  "
      ]
     },
     "execution_count": 7,
     "metadata": {},
     "output_type": "execute_result"
    }
   ],
   "source": [
    "features_cut_df.head()"
   ]
  },
  {
   "cell_type": "code",
   "execution_count": 8,
   "metadata": {},
   "outputs": [],
   "source": [
    "# DataFrame of Nov-Dec NLTK Sentiment Scores.\n",
    "file_path4=Path(\"~/git/HolidaySales/NYT_updated.csv\")\n",
    "nltk_df=pd.read_csv(file_path4,infer_datetime_format=True,parse_dates=True,index_col=\"pub_date\")"
   ]
  },
  {
   "cell_type": "code",
   "execution_count": 9,
   "metadata": {},
   "outputs": [
    {
     "data": {
      "text/html": [
       "<div>\n",
       "<style scoped>\n",
       "    .dataframe tbody tr th:only-of-type {\n",
       "        vertical-align: middle;\n",
       "    }\n",
       "\n",
       "    .dataframe tbody tr th {\n",
       "        vertical-align: top;\n",
       "    }\n",
       "\n",
       "    .dataframe thead th {\n",
       "        text-align: right;\n",
       "    }\n",
       "</style>\n",
       "<table border=\"1\" class=\"dataframe\">\n",
       "  <thead>\n",
       "    <tr style=\"text-align: right;\">\n",
       "      <th></th>\n",
       "      <th>abstract</th>\n",
       "      <th>compound</th>\n",
       "      <th>neg</th>\n",
       "      <th>neu</th>\n",
       "      <th>pos</th>\n",
       "    </tr>\n",
       "    <tr>\n",
       "      <th>pub_date</th>\n",
       "      <th></th>\n",
       "      <th></th>\n",
       "      <th></th>\n",
       "      <th></th>\n",
       "      <th></th>\n",
       "    </tr>\n",
       "  </thead>\n",
       "  <tbody>\n",
       "    <tr>\n",
       "      <th>1992-12-26 05:00:00</th>\n",
       "      <td>It was a hair-raising holiday season for man...</td>\n",
       "      <td>0.7850</td>\n",
       "      <td>0.058</td>\n",
       "      <td>0.765</td>\n",
       "      <td>0.177</td>\n",
       "    </tr>\n",
       "    <tr>\n",
       "      <th>1992-12-13 05:00:00</th>\n",
       "      <td>A Blow to the Wallet   Retailers and public ...</td>\n",
       "      <td>-0.1280</td>\n",
       "      <td>0.109</td>\n",
       "      <td>0.806</td>\n",
       "      <td>0.085</td>\n",
       "    </tr>\n",
       "    <tr>\n",
       "      <th>1992-11-28 05:00:00</th>\n",
       "      <td>Signs of a comeback in consumer spending pus...</td>\n",
       "      <td>0.6124</td>\n",
       "      <td>0.000</td>\n",
       "      <td>0.894</td>\n",
       "      <td>0.106</td>\n",
       "    </tr>\n",
       "    <tr>\n",
       "      <th>1992-12-12 05:00:00</th>\n",
       "      <td>Losses at R. H. Macy &amp; Company narrowed in t...</td>\n",
       "      <td>-0.8316</td>\n",
       "      <td>0.115</td>\n",
       "      <td>0.867</td>\n",
       "      <td>0.018</td>\n",
       "    </tr>\n",
       "    <tr>\n",
       "      <th>1992-11-19 05:00:00</th>\n",
       "      <td>With their fingers tightly crossed and rabbi...</td>\n",
       "      <td>0.9797</td>\n",
       "      <td>0.110</td>\n",
       "      <td>0.542</td>\n",
       "      <td>0.348</td>\n",
       "    </tr>\n",
       "  </tbody>\n",
       "</table>\n",
       "</div>"
      ],
      "text/plain": [
       "                                                              abstract  \\\n",
       "pub_date                                                                 \n",
       "1992-12-26 05:00:00    It was a hair-raising holiday season for man...   \n",
       "1992-12-13 05:00:00    A Blow to the Wallet   Retailers and public ...   \n",
       "1992-11-28 05:00:00    Signs of a comeback in consumer spending pus...   \n",
       "1992-12-12 05:00:00    Losses at R. H. Macy & Company narrowed in t...   \n",
       "1992-11-19 05:00:00    With their fingers tightly crossed and rabbi...   \n",
       "\n",
       "                     compound    neg    neu    pos  \n",
       "pub_date                                            \n",
       "1992-12-26 05:00:00    0.7850  0.058  0.765  0.177  \n",
       "1992-12-13 05:00:00   -0.1280  0.109  0.806  0.085  \n",
       "1992-11-28 05:00:00    0.6124  0.000  0.894  0.106  \n",
       "1992-12-12 05:00:00   -0.8316  0.115  0.867  0.018  \n",
       "1992-11-19 05:00:00    0.9797  0.110  0.542  0.348  "
      ]
     },
     "execution_count": 9,
     "metadata": {},
     "output_type": "execute_result"
    }
   ],
   "source": [
    "# Organize and clean nltk data.\n",
    "nltk_df=nltk_df.drop(columns=[\"Unnamed: 0\"])\n",
    "nltk_df.head()"
   ]
  },
  {
   "cell_type": "code",
   "execution_count": 10,
   "metadata": {},
   "outputs": [],
   "source": [
    "nltk_df=nltk_df.sort_index()"
   ]
  },
  {
   "cell_type": "code",
   "execution_count": 11,
   "metadata": {},
   "outputs": [
    {
     "data": {
      "text/html": [
       "<div>\n",
       "<style scoped>\n",
       "    .dataframe tbody tr th:only-of-type {\n",
       "        vertical-align: middle;\n",
       "    }\n",
       "\n",
       "    .dataframe tbody tr th {\n",
       "        vertical-align: top;\n",
       "    }\n",
       "\n",
       "    .dataframe thead th {\n",
       "        text-align: right;\n",
       "    }\n",
       "</style>\n",
       "<table border=\"1\" class=\"dataframe\">\n",
       "  <thead>\n",
       "    <tr style=\"text-align: right;\">\n",
       "      <th></th>\n",
       "      <th>abstract</th>\n",
       "      <th>compound</th>\n",
       "      <th>neg</th>\n",
       "      <th>neu</th>\n",
       "      <th>pos</th>\n",
       "    </tr>\n",
       "    <tr>\n",
       "      <th>pub_date</th>\n",
       "      <th></th>\n",
       "      <th></th>\n",
       "      <th></th>\n",
       "      <th></th>\n",
       "      <th></th>\n",
       "    </tr>\n",
       "  </thead>\n",
       "  <tbody>\n",
       "    <tr>\n",
       "      <th>1992-11-17 05:00:00</th>\n",
       "      <td>The Kmart Corporation, the discount and spec...</td>\n",
       "      <td>0.8442</td>\n",
       "      <td>0.000</td>\n",
       "      <td>0.892</td>\n",
       "      <td>0.108</td>\n",
       "    </tr>\n",
       "    <tr>\n",
       "      <th>1992-11-19 05:00:00</th>\n",
       "      <td>With their fingers tightly crossed and rabbi...</td>\n",
       "      <td>0.9797</td>\n",
       "      <td>0.110</td>\n",
       "      <td>0.542</td>\n",
       "      <td>0.348</td>\n",
       "    </tr>\n",
       "    <tr>\n",
       "      <th>1992-11-28 05:00:00</th>\n",
       "      <td>Signs of a comeback in consumer spending pus...</td>\n",
       "      <td>0.6124</td>\n",
       "      <td>0.000</td>\n",
       "      <td>0.894</td>\n",
       "      <td>0.106</td>\n",
       "    </tr>\n",
       "    <tr>\n",
       "      <th>1992-12-10 05:00:00</th>\n",
       "      <td>The economy is improving modestly but uneven...</td>\n",
       "      <td>0.7227</td>\n",
       "      <td>0.054</td>\n",
       "      <td>0.812</td>\n",
       "      <td>0.134</td>\n",
       "    </tr>\n",
       "    <tr>\n",
       "      <th>1992-12-12 05:00:00</th>\n",
       "      <td>Losses at R. H. Macy &amp; Company narrowed in t...</td>\n",
       "      <td>-0.8316</td>\n",
       "      <td>0.115</td>\n",
       "      <td>0.867</td>\n",
       "      <td>0.018</td>\n",
       "    </tr>\n",
       "  </tbody>\n",
       "</table>\n",
       "</div>"
      ],
      "text/plain": [
       "                                                              abstract  \\\n",
       "pub_date                                                                 \n",
       "1992-11-17 05:00:00    The Kmart Corporation, the discount and spec...   \n",
       "1992-11-19 05:00:00    With their fingers tightly crossed and rabbi...   \n",
       "1992-11-28 05:00:00    Signs of a comeback in consumer spending pus...   \n",
       "1992-12-10 05:00:00    The economy is improving modestly but uneven...   \n",
       "1992-12-12 05:00:00    Losses at R. H. Macy & Company narrowed in t...   \n",
       "\n",
       "                     compound    neg    neu    pos  \n",
       "pub_date                                            \n",
       "1992-11-17 05:00:00    0.8442  0.000  0.892  0.108  \n",
       "1992-11-19 05:00:00    0.9797  0.110  0.542  0.348  \n",
       "1992-11-28 05:00:00    0.6124  0.000  0.894  0.106  \n",
       "1992-12-10 05:00:00    0.7227  0.054  0.812  0.134  \n",
       "1992-12-12 05:00:00   -0.8316  0.115  0.867  0.018  "
      ]
     },
     "execution_count": 11,
     "metadata": {},
     "output_type": "execute_result"
    }
   ],
   "source": [
    "nltk_df.head()"
   ]
  },
  {
   "cell_type": "code",
   "execution_count": 12,
   "metadata": {},
   "outputs": [],
   "source": [
    "nltk_df=nltk_df.drop(columns=[\"abstract\"])"
   ]
  },
  {
   "cell_type": "code",
   "execution_count": 13,
   "metadata": {},
   "outputs": [],
   "source": [
    "nltk_df=nltk_df.drop(columns=[\"neg\",\"neu\",\"pos\"])"
   ]
  },
  {
   "cell_type": "code",
   "execution_count": 14,
   "metadata": {},
   "outputs": [
    {
     "data": {
      "text/plain": [
       "Int64Index([1992, 1992, 1992, 1992, 1992, 1992, 1992, 1992, 1992, 1992,\n",
       "            ...\n",
       "            2018, 2018, 2018, 2019, 2019, 2019, 2019, 2019, 2019, 2019],\n",
       "           dtype='int64', name='pub_date', length=262)"
      ]
     },
     "execution_count": 14,
     "metadata": {},
     "output_type": "execute_result"
    }
   ],
   "source": [
    "nltk_df.index.year"
   ]
  },
  {
   "cell_type": "code",
   "execution_count": 15,
   "metadata": {},
   "outputs": [],
   "source": [
    "# Average the compound sentiment score for each month.\n",
    "nltk_df_grp=nltk_df.groupby([nltk_df.index.year,nltk_df.index.month]).mean()"
   ]
  },
  {
   "cell_type": "code",
   "execution_count": 16,
   "metadata": {},
   "outputs": [
    {
     "data": {
      "text/html": [
       "<div>\n",
       "<style scoped>\n",
       "    .dataframe tbody tr th:only-of-type {\n",
       "        vertical-align: middle;\n",
       "    }\n",
       "\n",
       "    .dataframe tbody tr th {\n",
       "        vertical-align: top;\n",
       "    }\n",
       "\n",
       "    .dataframe thead th {\n",
       "        text-align: right;\n",
       "    }\n",
       "</style>\n",
       "<table border=\"1\" class=\"dataframe\">\n",
       "  <thead>\n",
       "    <tr style=\"text-align: right;\">\n",
       "      <th></th>\n",
       "      <th></th>\n",
       "      <th>compound</th>\n",
       "    </tr>\n",
       "    <tr>\n",
       "      <th>pub_date</th>\n",
       "      <th>pub_date</th>\n",
       "      <th></th>\n",
       "    </tr>\n",
       "  </thead>\n",
       "  <tbody>\n",
       "    <tr>\n",
       "      <th rowspan=\"2\" valign=\"top\">1992</th>\n",
       "      <th>11</th>\n",
       "      <td>0.812100</td>\n",
       "    </tr>\n",
       "    <tr>\n",
       "      <th>12</th>\n",
       "      <td>0.458857</td>\n",
       "    </tr>\n",
       "    <tr>\n",
       "      <th rowspan=\"2\" valign=\"top\">1993</th>\n",
       "      <th>11</th>\n",
       "      <td>0.762175</td>\n",
       "    </tr>\n",
       "    <tr>\n",
       "      <th>12</th>\n",
       "      <td>0.500550</td>\n",
       "    </tr>\n",
       "    <tr>\n",
       "      <th rowspan=\"2\" valign=\"top\">1994</th>\n",
       "      <th>11</th>\n",
       "      <td>0.667100</td>\n",
       "    </tr>\n",
       "    <tr>\n",
       "      <th>12</th>\n",
       "      <td>0.366667</td>\n",
       "    </tr>\n",
       "    <tr>\n",
       "      <th rowspan=\"2\" valign=\"top\">1995</th>\n",
       "      <th>11</th>\n",
       "      <td>0.485533</td>\n",
       "    </tr>\n",
       "    <tr>\n",
       "      <th>12</th>\n",
       "      <td>-0.133071</td>\n",
       "    </tr>\n",
       "    <tr>\n",
       "      <th rowspan=\"2\" valign=\"top\">1996</th>\n",
       "      <th>11</th>\n",
       "      <td>0.722600</td>\n",
       "    </tr>\n",
       "    <tr>\n",
       "      <th>12</th>\n",
       "      <td>0.378529</td>\n",
       "    </tr>\n",
       "    <tr>\n",
       "      <th rowspan=\"2\" valign=\"top\">1997</th>\n",
       "      <th>11</th>\n",
       "      <td>0.855950</td>\n",
       "    </tr>\n",
       "    <tr>\n",
       "      <th>12</th>\n",
       "      <td>0.362400</td>\n",
       "    </tr>\n",
       "    <tr>\n",
       "      <th rowspan=\"2\" valign=\"top\">1998</th>\n",
       "      <th>11</th>\n",
       "      <td>0.348533</td>\n",
       "    </tr>\n",
       "    <tr>\n",
       "      <th>12</th>\n",
       "      <td>0.684171</td>\n",
       "    </tr>\n",
       "    <tr>\n",
       "      <th rowspan=\"2\" valign=\"top\">1999</th>\n",
       "      <th>11</th>\n",
       "      <td>0.373900</td>\n",
       "    </tr>\n",
       "    <tr>\n",
       "      <th>12</th>\n",
       "      <td>0.393729</td>\n",
       "    </tr>\n",
       "    <tr>\n",
       "      <th rowspan=\"2\" valign=\"top\">2000</th>\n",
       "      <th>11</th>\n",
       "      <td>0.327100</td>\n",
       "    </tr>\n",
       "    <tr>\n",
       "      <th>12</th>\n",
       "      <td>0.187512</td>\n",
       "    </tr>\n",
       "    <tr>\n",
       "      <th rowspan=\"2\" valign=\"top\">2001</th>\n",
       "      <th>11</th>\n",
       "      <td>-0.161250</td>\n",
       "    </tr>\n",
       "    <tr>\n",
       "      <th>12</th>\n",
       "      <td>-0.107625</td>\n",
       "    </tr>\n",
       "    <tr>\n",
       "      <th rowspan=\"2\" valign=\"top\">2002</th>\n",
       "      <th>11</th>\n",
       "      <td>0.585900</td>\n",
       "    </tr>\n",
       "    <tr>\n",
       "      <th>12</th>\n",
       "      <td>0.138056</td>\n",
       "    </tr>\n",
       "    <tr>\n",
       "      <th rowspan=\"2\" valign=\"top\">2003</th>\n",
       "      <th>11</th>\n",
       "      <td>0.578900</td>\n",
       "    </tr>\n",
       "    <tr>\n",
       "      <th>12</th>\n",
       "      <td>0.400457</td>\n",
       "    </tr>\n",
       "    <tr>\n",
       "      <th rowspan=\"2\" valign=\"top\">2004</th>\n",
       "      <th>11</th>\n",
       "      <td>0.057950</td>\n",
       "    </tr>\n",
       "    <tr>\n",
       "      <th>12</th>\n",
       "      <td>0.585150</td>\n",
       "    </tr>\n",
       "    <tr>\n",
       "      <th rowspan=\"2\" valign=\"top\">2005</th>\n",
       "      <th>11</th>\n",
       "      <td>0.408386</td>\n",
       "    </tr>\n",
       "    <tr>\n",
       "      <th>12</th>\n",
       "      <td>0.909933</td>\n",
       "    </tr>\n",
       "    <tr>\n",
       "      <th rowspan=\"2\" valign=\"top\">2006</th>\n",
       "      <th>11</th>\n",
       "      <td>0.041875</td>\n",
       "    </tr>\n",
       "    <tr>\n",
       "      <th>12</th>\n",
       "      <td>0.155633</td>\n",
       "    </tr>\n",
       "    <tr>\n",
       "      <th rowspan=\"2\" valign=\"top\">2007</th>\n",
       "      <th>11</th>\n",
       "      <td>0.085457</td>\n",
       "    </tr>\n",
       "    <tr>\n",
       "      <th>12</th>\n",
       "      <td>0.151167</td>\n",
       "    </tr>\n",
       "    <tr>\n",
       "      <th rowspan=\"2\" valign=\"top\">2008</th>\n",
       "      <th>11</th>\n",
       "      <td>0.419380</td>\n",
       "    </tr>\n",
       "    <tr>\n",
       "      <th>12</th>\n",
       "      <td>0.275620</td>\n",
       "    </tr>\n",
       "    <tr>\n",
       "      <th rowspan=\"2\" valign=\"top\">2009</th>\n",
       "      <th>11</th>\n",
       "      <td>0.297650</td>\n",
       "    </tr>\n",
       "    <tr>\n",
       "      <th>12</th>\n",
       "      <td>0.523625</td>\n",
       "    </tr>\n",
       "    <tr>\n",
       "      <th rowspan=\"2\" valign=\"top\">2010</th>\n",
       "      <th>11</th>\n",
       "      <td>0.378350</td>\n",
       "    </tr>\n",
       "    <tr>\n",
       "      <th>12</th>\n",
       "      <td>0.144425</td>\n",
       "    </tr>\n",
       "    <tr>\n",
       "      <th rowspan=\"2\" valign=\"top\">2011</th>\n",
       "      <th>11</th>\n",
       "      <td>0.000000</td>\n",
       "    </tr>\n",
       "    <tr>\n",
       "      <th>12</th>\n",
       "      <td>0.142437</td>\n",
       "    </tr>\n",
       "    <tr>\n",
       "      <th rowspan=\"2\" valign=\"top\">2012</th>\n",
       "      <th>11</th>\n",
       "      <td>0.149275</td>\n",
       "    </tr>\n",
       "    <tr>\n",
       "      <th>12</th>\n",
       "      <td>0.382017</td>\n",
       "    </tr>\n",
       "    <tr>\n",
       "      <th rowspan=\"2\" valign=\"top\">2013</th>\n",
       "      <th>11</th>\n",
       "      <td>0.458200</td>\n",
       "    </tr>\n",
       "    <tr>\n",
       "      <th>12</th>\n",
       "      <td>-0.298725</td>\n",
       "    </tr>\n",
       "    <tr>\n",
       "      <th rowspan=\"2\" valign=\"top\">2014</th>\n",
       "      <th>11</th>\n",
       "      <td>0.115883</td>\n",
       "    </tr>\n",
       "    <tr>\n",
       "      <th>12</th>\n",
       "      <td>0.245875</td>\n",
       "    </tr>\n",
       "    <tr>\n",
       "      <th rowspan=\"2\" valign=\"top\">2015</th>\n",
       "      <th>11</th>\n",
       "      <td>0.388111</td>\n",
       "    </tr>\n",
       "    <tr>\n",
       "      <th>12</th>\n",
       "      <td>-0.421500</td>\n",
       "    </tr>\n",
       "    <tr>\n",
       "      <th>2016</th>\n",
       "      <th>12</th>\n",
       "      <td>0.302650</td>\n",
       "    </tr>\n",
       "    <tr>\n",
       "      <th rowspan=\"2\" valign=\"top\">2017</th>\n",
       "      <th>11</th>\n",
       "      <td>0.499420</td>\n",
       "    </tr>\n",
       "    <tr>\n",
       "      <th>12</th>\n",
       "      <td>0.000000</td>\n",
       "    </tr>\n",
       "    <tr>\n",
       "      <th rowspan=\"2\" valign=\"top\">2018</th>\n",
       "      <th>11</th>\n",
       "      <td>0.327625</td>\n",
       "    </tr>\n",
       "    <tr>\n",
       "      <th>12</th>\n",
       "      <td>0.346600</td>\n",
       "    </tr>\n",
       "    <tr>\n",
       "      <th rowspan=\"2\" valign=\"top\">2019</th>\n",
       "      <th>11</th>\n",
       "      <td>0.000000</td>\n",
       "    </tr>\n",
       "    <tr>\n",
       "      <th>12</th>\n",
       "      <td>0.222725</td>\n",
       "    </tr>\n",
       "  </tbody>\n",
       "</table>\n",
       "</div>"
      ],
      "text/plain": [
       "                   compound\n",
       "pub_date pub_date          \n",
       "1992     11        0.812100\n",
       "         12        0.458857\n",
       "1993     11        0.762175\n",
       "         12        0.500550\n",
       "1994     11        0.667100\n",
       "         12        0.366667\n",
       "1995     11        0.485533\n",
       "         12       -0.133071\n",
       "1996     11        0.722600\n",
       "         12        0.378529\n",
       "1997     11        0.855950\n",
       "         12        0.362400\n",
       "1998     11        0.348533\n",
       "         12        0.684171\n",
       "1999     11        0.373900\n",
       "         12        0.393729\n",
       "2000     11        0.327100\n",
       "         12        0.187512\n",
       "2001     11       -0.161250\n",
       "         12       -0.107625\n",
       "2002     11        0.585900\n",
       "         12        0.138056\n",
       "2003     11        0.578900\n",
       "         12        0.400457\n",
       "2004     11        0.057950\n",
       "         12        0.585150\n",
       "2005     11        0.408386\n",
       "         12        0.909933\n",
       "2006     11        0.041875\n",
       "         12        0.155633\n",
       "2007     11        0.085457\n",
       "         12        0.151167\n",
       "2008     11        0.419380\n",
       "         12        0.275620\n",
       "2009     11        0.297650\n",
       "         12        0.523625\n",
       "2010     11        0.378350\n",
       "         12        0.144425\n",
       "2011     11        0.000000\n",
       "         12        0.142437\n",
       "2012     11        0.149275\n",
       "         12        0.382017\n",
       "2013     11        0.458200\n",
       "         12       -0.298725\n",
       "2014     11        0.115883\n",
       "         12        0.245875\n",
       "2015     11        0.388111\n",
       "         12       -0.421500\n",
       "2016     12        0.302650\n",
       "2017     11        0.499420\n",
       "         12        0.000000\n",
       "2018     11        0.327625\n",
       "         12        0.346600\n",
       "2019     11        0.000000\n",
       "         12        0.222725"
      ]
     },
     "execution_count": 16,
     "metadata": {},
     "output_type": "execute_result"
    }
   ],
   "source": [
    "nltk_df_grp"
   ]
  },
  {
   "cell_type": "code",
   "execution_count": 17,
   "metadata": {},
   "outputs": [
    {
     "data": {
      "text/plain": [
       "MultiIndex(levels=[[1992, 1993, 1994, 1995, 1996, 1997, 1998, 1999, 2000, 2001, 2002, 2003, 2004, 2005, 2006, 2007, 2008, 2009, 2010, 2011, 2012, 2013, 2014, 2015, 2016, 2017, 2018, 2019], [11, 12]],\n",
       "           codes=[[0, 0, 1, 1, 2, 2, 3, 3, 4, 4, 5, 5, 6, 6, 7, 7, 8, 8, 9, 9, 10, 10, 11, 11, 12, 12, 13, 13, 14, 14, 15, 15, 16, 16, 17, 17, 18, 18, 19, 19, 20, 20, 21, 21, 22, 22, 23, 23, 24, 25, 25, 26, 26, 27, 27], [0, 1, 0, 1, 0, 1, 0, 1, 0, 1, 0, 1, 0, 1, 0, 1, 0, 1, 0, 1, 0, 1, 0, 1, 0, 1, 0, 1, 0, 1, 0, 1, 0, 1, 0, 1, 0, 1, 0, 1, 0, 1, 0, 1, 0, 1, 0, 1, 1, 0, 1, 0, 1, 0, 1]],\n",
       "           names=['pub_date', 'pub_date'])"
      ]
     },
     "execution_count": 17,
     "metadata": {},
     "output_type": "execute_result"
    }
   ],
   "source": [
    "nltk_df_grp.index"
   ]
  },
  {
   "cell_type": "code",
   "execution_count": 18,
   "metadata": {},
   "outputs": [],
   "source": [
    "nltk_df_grp.index=nltk_df_grp.index.to_flat_index()"
   ]
  },
  {
   "cell_type": "code",
   "execution_count": 19,
   "metadata": {},
   "outputs": [
    {
     "data": {
      "text/html": [
       "<div>\n",
       "<style scoped>\n",
       "    .dataframe tbody tr th:only-of-type {\n",
       "        vertical-align: middle;\n",
       "    }\n",
       "\n",
       "    .dataframe tbody tr th {\n",
       "        vertical-align: top;\n",
       "    }\n",
       "\n",
       "    .dataframe thead th {\n",
       "        text-align: right;\n",
       "    }\n",
       "</style>\n",
       "<table border=\"1\" class=\"dataframe\">\n",
       "  <thead>\n",
       "    <tr style=\"text-align: right;\">\n",
       "      <th></th>\n",
       "      <th>compound</th>\n",
       "    </tr>\n",
       "  </thead>\n",
       "  <tbody>\n",
       "    <tr>\n",
       "      <th>(1992, 11)</th>\n",
       "      <td>0.812100</td>\n",
       "    </tr>\n",
       "    <tr>\n",
       "      <th>(1992, 12)</th>\n",
       "      <td>0.458857</td>\n",
       "    </tr>\n",
       "    <tr>\n",
       "      <th>(1993, 11)</th>\n",
       "      <td>0.762175</td>\n",
       "    </tr>\n",
       "    <tr>\n",
       "      <th>(1993, 12)</th>\n",
       "      <td>0.500550</td>\n",
       "    </tr>\n",
       "    <tr>\n",
       "      <th>(1994, 11)</th>\n",
       "      <td>0.667100</td>\n",
       "    </tr>\n",
       "  </tbody>\n",
       "</table>\n",
       "</div>"
      ],
      "text/plain": [
       "            compound\n",
       "(1992, 11)  0.812100\n",
       "(1992, 12)  0.458857\n",
       "(1993, 11)  0.762175\n",
       "(1993, 12)  0.500550\n",
       "(1994, 11)  0.667100"
      ]
     },
     "execution_count": 19,
     "metadata": {},
     "output_type": "execute_result"
    }
   ],
   "source": [
    "nltk_df_grp.head()"
   ]
  },
  {
   "cell_type": "code",
   "execution_count": 20,
   "metadata": {},
   "outputs": [],
   "source": [
    "#nltk_df_grp.to_csv(\"NEW_Nov_Dec_NLTK_Average_Sentiment_Score_Annual.csv\")"
   ]
  },
  {
   "cell_type": "code",
   "execution_count": 21,
   "metadata": {},
   "outputs": [],
   "source": [
    "file_path5=Path(\"~/git/HolidaySales/NEW_Nov_Dec_NLTK_Average_Sentiment_Score_2.csv\")\n",
    "df=pd.read_csv(file_path5,infer_datetime_format=True,parse_dates=True,index_col=\"DATE\")"
   ]
  },
  {
   "cell_type": "code",
   "execution_count": 22,
   "metadata": {},
   "outputs": [
    {
     "data": {
      "text/html": [
       "<div>\n",
       "<style scoped>\n",
       "    .dataframe tbody tr th:only-of-type {\n",
       "        vertical-align: middle;\n",
       "    }\n",
       "\n",
       "    .dataframe tbody tr th {\n",
       "        vertical-align: top;\n",
       "    }\n",
       "\n",
       "    .dataframe thead th {\n",
       "        text-align: right;\n",
       "    }\n",
       "</style>\n",
       "<table border=\"1\" class=\"dataframe\">\n",
       "  <thead>\n",
       "    <tr style=\"text-align: right;\">\n",
       "      <th></th>\n",
       "      <th>compound</th>\n",
       "    </tr>\n",
       "    <tr>\n",
       "      <th>DATE</th>\n",
       "      <th></th>\n",
       "    </tr>\n",
       "  </thead>\n",
       "  <tbody>\n",
       "    <tr>\n",
       "      <th>1992-11-01</th>\n",
       "      <td>0.812100</td>\n",
       "    </tr>\n",
       "    <tr>\n",
       "      <th>1992-12-01</th>\n",
       "      <td>0.458857</td>\n",
       "    </tr>\n",
       "    <tr>\n",
       "      <th>1993-11-01</th>\n",
       "      <td>0.762175</td>\n",
       "    </tr>\n",
       "    <tr>\n",
       "      <th>1993-12-01</th>\n",
       "      <td>0.500550</td>\n",
       "    </tr>\n",
       "    <tr>\n",
       "      <th>1994-11-01</th>\n",
       "      <td>0.667100</td>\n",
       "    </tr>\n",
       "  </tbody>\n",
       "</table>\n",
       "</div>"
      ],
      "text/plain": [
       "            compound\n",
       "DATE                \n",
       "1992-11-01  0.812100\n",
       "1992-12-01  0.458857\n",
       "1993-11-01  0.762175\n",
       "1993-12-01  0.500550\n",
       "1994-11-01  0.667100"
      ]
     },
     "execution_count": 22,
     "metadata": {},
     "output_type": "execute_result"
    }
   ],
   "source": [
    "df.head()"
   ]
  },
  {
   "cell_type": "code",
   "execution_count": 23,
   "metadata": {},
   "outputs": [],
   "source": [
    "# Get the full updated dataframe Nov/Dec ONLY w/Gold.\n",
    "file_path6=Path(\"~/git/HolidaySales/DataSets/Main_gold.csv\")\n",
    "main_df=pd.read_csv(file_path6,parse_dates=True,infer_datetime_format=True)"
   ]
  },
  {
   "cell_type": "code",
   "execution_count": 24,
   "metadata": {},
   "outputs": [
    {
     "data": {
      "text/html": [
       "<div>\n",
       "<style scoped>\n",
       "    .dataframe tbody tr th:only-of-type {\n",
       "        vertical-align: middle;\n",
       "    }\n",
       "\n",
       "    .dataframe tbody tr th {\n",
       "        vertical-align: top;\n",
       "    }\n",
       "\n",
       "    .dataframe thead th {\n",
       "        text-align: right;\n",
       "    }\n",
       "</style>\n",
       "<table border=\"1\" class=\"dataframe\">\n",
       "  <thead>\n",
       "    <tr style=\"text-align: right;\">\n",
       "      <th></th>\n",
       "      <th>DATE</th>\n",
       "      <th>NYT_sentiment</th>\n",
       "      <th>gas_prices</th>\n",
       "      <th>consumer_sentiments</th>\n",
       "      <th>unemployment_rate</th>\n",
       "      <th>CPI</th>\n",
       "      <th>retail_index</th>\n",
       "      <th>Consumer_debt_service</th>\n",
       "      <th>GDP_growth</th>\n",
       "      <th>sales</th>\n",
       "      <th>GDP</th>\n",
       "      <th>close</th>\n",
       "    </tr>\n",
       "  </thead>\n",
       "  <tbody>\n",
       "    <tr>\n",
       "      <th>0</th>\n",
       "      <td>11/1/1992</td>\n",
       "      <td>0.812100</td>\n",
       "      <td>1.11120</td>\n",
       "      <td>85.3</td>\n",
       "      <td>7.4</td>\n",
       "      <td>-3.664766</td>\n",
       "      <td>91.12</td>\n",
       "      <td>4.660212</td>\n",
       "      <td>4.4</td>\n",
       "      <td>-18182.99304</td>\n",
       "      <td>-576.109447</td>\n",
       "      <td>339.50</td>\n",
       "    </tr>\n",
       "    <tr>\n",
       "      <th>1</th>\n",
       "      <td>11/1/1993</td>\n",
       "      <td>0.762175</td>\n",
       "      <td>1.06640</td>\n",
       "      <td>81.2</td>\n",
       "      <td>6.6</td>\n",
       "      <td>-4.077295</td>\n",
       "      <td>96.43</td>\n",
       "      <td>4.755414</td>\n",
       "      <td>2.6</td>\n",
       "      <td>-15860.78098</td>\n",
       "      <td>-676.804025</td>\n",
       "      <td>363.25</td>\n",
       "    </tr>\n",
       "    <tr>\n",
       "      <th>2</th>\n",
       "      <td>11/1/1994</td>\n",
       "      <td>0.667100</td>\n",
       "      <td>1.11575</td>\n",
       "      <td>91.6</td>\n",
       "      <td>5.6</td>\n",
       "      <td>-4.587534</td>\n",
       "      <td>89.19</td>\n",
       "      <td>5.120072</td>\n",
       "      <td>4.1</td>\n",
       "      <td>-12429.20455</td>\n",
       "      <td>-618.354534</td>\n",
       "      <td>384.50</td>\n",
       "    </tr>\n",
       "    <tr>\n",
       "      <th>3</th>\n",
       "      <td>11/1/1995</td>\n",
       "      <td>0.485533</td>\n",
       "      <td>1.06225</td>\n",
       "      <td>88.2</td>\n",
       "      <td>5.6</td>\n",
       "      <td>-4.990644</td>\n",
       "      <td>85.37</td>\n",
       "      <td>5.594352</td>\n",
       "      <td>2.2</td>\n",
       "      <td>-14721.98639</td>\n",
       "      <td>-742.978904</td>\n",
       "      <td>381.95</td>\n",
       "    </tr>\n",
       "    <tr>\n",
       "      <th>4</th>\n",
       "      <td>11/1/1996</td>\n",
       "      <td>0.722600</td>\n",
       "      <td>1.23225</td>\n",
       "      <td>99.2</td>\n",
       "      <td>5.4</td>\n",
       "      <td>-4.278919</td>\n",
       "      <td>87.88</td>\n",
       "      <td>5.777011</td>\n",
       "      <td>4.4</td>\n",
       "      <td>-14186.08089</td>\n",
       "      <td>-621.669592</td>\n",
       "      <td>377.60</td>\n",
       "    </tr>\n",
       "  </tbody>\n",
       "</table>\n",
       "</div>"
      ],
      "text/plain": [
       "        DATE  NYT_sentiment  gas_prices  consumer_sentiments  \\\n",
       "0  11/1/1992       0.812100     1.11120                 85.3   \n",
       "1  11/1/1993       0.762175     1.06640                 81.2   \n",
       "2  11/1/1994       0.667100     1.11575                 91.6   \n",
       "3  11/1/1995       0.485533     1.06225                 88.2   \n",
       "4  11/1/1996       0.722600     1.23225                 99.2   \n",
       "\n",
       "   unemployment_rate       CPI  retail_index  Consumer_debt_service  \\\n",
       "0                7.4 -3.664766         91.12               4.660212   \n",
       "1                6.6 -4.077295         96.43               4.755414   \n",
       "2                5.6 -4.587534         89.19               5.120072   \n",
       "3                5.6 -4.990644         85.37               5.594352   \n",
       "4                5.4 -4.278919         87.88               5.777011   \n",
       "\n",
       "   GDP_growth        sales         GDP   close  \n",
       "0         4.4 -18182.99304 -576.109447  339.50  \n",
       "1         2.6 -15860.78098 -676.804025  363.25  \n",
       "2         4.1 -12429.20455 -618.354534  384.50  \n",
       "3         2.2 -14721.98639 -742.978904  381.95  \n",
       "4         4.4 -14186.08089 -621.669592  377.60  "
      ]
     },
     "execution_count": 24,
     "metadata": {},
     "output_type": "execute_result"
    }
   ],
   "source": [
    "main_df.head()"
   ]
  },
  {
   "cell_type": "code",
   "execution_count": 25,
   "metadata": {},
   "outputs": [],
   "source": [
    "# Returns for Dow Index.\n",
    "main_df[\"retail_index\"]=main_df[\"retail_index\"].pct_change()"
   ]
  },
  {
   "cell_type": "code",
   "execution_count": 26,
   "metadata": {},
   "outputs": [],
   "source": [
    "# Returns for Gold.\n",
    "main_df[\"close\"]=main_df[\"close\"].pct_change()"
   ]
  },
  {
   "cell_type": "code",
   "execution_count": 27,
   "metadata": {},
   "outputs": [
    {
     "data": {
      "text/html": [
       "<div>\n",
       "<style scoped>\n",
       "    .dataframe tbody tr th:only-of-type {\n",
       "        vertical-align: middle;\n",
       "    }\n",
       "\n",
       "    .dataframe tbody tr th {\n",
       "        vertical-align: top;\n",
       "    }\n",
       "\n",
       "    .dataframe thead th {\n",
       "        text-align: right;\n",
       "    }\n",
       "</style>\n",
       "<table border=\"1\" class=\"dataframe\">\n",
       "  <thead>\n",
       "    <tr style=\"text-align: right;\">\n",
       "      <th></th>\n",
       "      <th>DATE</th>\n",
       "      <th>NYT_sentiment</th>\n",
       "      <th>gas_prices</th>\n",
       "      <th>consumer_sentiments</th>\n",
       "      <th>unemployment_rate</th>\n",
       "      <th>CPI</th>\n",
       "      <th>retail_index</th>\n",
       "      <th>Consumer_debt_service</th>\n",
       "      <th>GDP_growth</th>\n",
       "      <th>sales</th>\n",
       "      <th>GDP</th>\n",
       "      <th>close</th>\n",
       "    </tr>\n",
       "  </thead>\n",
       "  <tbody>\n",
       "    <tr>\n",
       "      <th>0</th>\n",
       "      <td>11/1/1992</td>\n",
       "      <td>0.812100</td>\n",
       "      <td>1.11120</td>\n",
       "      <td>85.3</td>\n",
       "      <td>7.4</td>\n",
       "      <td>-3.664766</td>\n",
       "      <td>NaN</td>\n",
       "      <td>4.660212</td>\n",
       "      <td>4.4</td>\n",
       "      <td>-18182.99304</td>\n",
       "      <td>-576.109447</td>\n",
       "      <td>NaN</td>\n",
       "    </tr>\n",
       "    <tr>\n",
       "      <th>1</th>\n",
       "      <td>11/1/1993</td>\n",
       "      <td>0.762175</td>\n",
       "      <td>1.06640</td>\n",
       "      <td>81.2</td>\n",
       "      <td>6.6</td>\n",
       "      <td>-4.077295</td>\n",
       "      <td>0.058275</td>\n",
       "      <td>4.755414</td>\n",
       "      <td>2.6</td>\n",
       "      <td>-15860.78098</td>\n",
       "      <td>-676.804025</td>\n",
       "      <td>0.069956</td>\n",
       "    </tr>\n",
       "    <tr>\n",
       "      <th>2</th>\n",
       "      <td>11/1/1994</td>\n",
       "      <td>0.667100</td>\n",
       "      <td>1.11575</td>\n",
       "      <td>91.6</td>\n",
       "      <td>5.6</td>\n",
       "      <td>-4.587534</td>\n",
       "      <td>-0.075080</td>\n",
       "      <td>5.120072</td>\n",
       "      <td>4.1</td>\n",
       "      <td>-12429.20455</td>\n",
       "      <td>-618.354534</td>\n",
       "      <td>0.058500</td>\n",
       "    </tr>\n",
       "    <tr>\n",
       "      <th>3</th>\n",
       "      <td>11/1/1995</td>\n",
       "      <td>0.485533</td>\n",
       "      <td>1.06225</td>\n",
       "      <td>88.2</td>\n",
       "      <td>5.6</td>\n",
       "      <td>-4.990644</td>\n",
       "      <td>-0.042830</td>\n",
       "      <td>5.594352</td>\n",
       "      <td>2.2</td>\n",
       "      <td>-14721.98639</td>\n",
       "      <td>-742.978904</td>\n",
       "      <td>-0.006632</td>\n",
       "    </tr>\n",
       "    <tr>\n",
       "      <th>4</th>\n",
       "      <td>11/1/1996</td>\n",
       "      <td>0.722600</td>\n",
       "      <td>1.23225</td>\n",
       "      <td>99.2</td>\n",
       "      <td>5.4</td>\n",
       "      <td>-4.278919</td>\n",
       "      <td>0.029401</td>\n",
       "      <td>5.777011</td>\n",
       "      <td>4.4</td>\n",
       "      <td>-14186.08089</td>\n",
       "      <td>-621.669592</td>\n",
       "      <td>-0.011389</td>\n",
       "    </tr>\n",
       "  </tbody>\n",
       "</table>\n",
       "</div>"
      ],
      "text/plain": [
       "        DATE  NYT_sentiment  gas_prices  consumer_sentiments  \\\n",
       "0  11/1/1992       0.812100     1.11120                 85.3   \n",
       "1  11/1/1993       0.762175     1.06640                 81.2   \n",
       "2  11/1/1994       0.667100     1.11575                 91.6   \n",
       "3  11/1/1995       0.485533     1.06225                 88.2   \n",
       "4  11/1/1996       0.722600     1.23225                 99.2   \n",
       "\n",
       "   unemployment_rate       CPI  retail_index  Consumer_debt_service  \\\n",
       "0                7.4 -3.664766           NaN               4.660212   \n",
       "1                6.6 -4.077295      0.058275               4.755414   \n",
       "2                5.6 -4.587534     -0.075080               5.120072   \n",
       "3                5.6 -4.990644     -0.042830               5.594352   \n",
       "4                5.4 -4.278919      0.029401               5.777011   \n",
       "\n",
       "   GDP_growth        sales         GDP     close  \n",
       "0         4.4 -18182.99304 -576.109447       NaN  \n",
       "1         2.6 -15860.78098 -676.804025  0.069956  \n",
       "2         4.1 -12429.20455 -618.354534  0.058500  \n",
       "3         2.2 -14721.98639 -742.978904 -0.006632  \n",
       "4         4.4 -14186.08089 -621.669592 -0.011389  "
      ]
     },
     "execution_count": 27,
     "metadata": {},
     "output_type": "execute_result"
    }
   ],
   "source": [
    "main_df.head()"
   ]
  },
  {
   "cell_type": "code",
   "execution_count": 28,
   "metadata": {},
   "outputs": [],
   "source": [
    "# FINAL DF WITH RETURNS FOR GOLD AND THE RETAIL INDEX NOV-DEC ONLY.\n",
    "file_path7=Path(\"~/git/HolidaySales/MAIN_DF_WITH_GOLD.csv\")\n",
    "main_df=pd.read_csv(file_path7,infer_datetime_format=True,parse_dates=True,index_col=\"DATE\")"
   ]
  },
  {
   "cell_type": "code",
   "execution_count": 29,
   "metadata": {},
   "outputs": [
    {
     "data": {
      "text/html": [
       "<div>\n",
       "<style scoped>\n",
       "    .dataframe tbody tr th:only-of-type {\n",
       "        vertical-align: middle;\n",
       "    }\n",
       "\n",
       "    .dataframe tbody tr th {\n",
       "        vertical-align: top;\n",
       "    }\n",
       "\n",
       "    .dataframe thead th {\n",
       "        text-align: right;\n",
       "    }\n",
       "</style>\n",
       "<table border=\"1\" class=\"dataframe\">\n",
       "  <thead>\n",
       "    <tr style=\"text-align: right;\">\n",
       "      <th></th>\n",
       "      <th>NYT_sentiment</th>\n",
       "      <th>gas_prices</th>\n",
       "      <th>consumer_sentiments</th>\n",
       "      <th>unemployment_rate</th>\n",
       "      <th>CPI</th>\n",
       "      <th>Retail_Index_Returns</th>\n",
       "      <th>Consumer_debt_service</th>\n",
       "      <th>GDP_growth</th>\n",
       "      <th>sales</th>\n",
       "      <th>GDP</th>\n",
       "      <th>Gold_Returns</th>\n",
       "    </tr>\n",
       "    <tr>\n",
       "      <th>DATE</th>\n",
       "      <th></th>\n",
       "      <th></th>\n",
       "      <th></th>\n",
       "      <th></th>\n",
       "      <th></th>\n",
       "      <th></th>\n",
       "      <th></th>\n",
       "      <th></th>\n",
       "      <th></th>\n",
       "      <th></th>\n",
       "      <th></th>\n",
       "    </tr>\n",
       "  </thead>\n",
       "  <tbody>\n",
       "    <tr>\n",
       "      <th>1992-11-01</th>\n",
       "      <td>0.812100</td>\n",
       "      <td>1.11120</td>\n",
       "      <td>85.3</td>\n",
       "      <td>7.4</td>\n",
       "      <td>-3.664766</td>\n",
       "      <td>0.000000</td>\n",
       "      <td>4.660212</td>\n",
       "      <td>4.4</td>\n",
       "      <td>-18182.99304</td>\n",
       "      <td>-576.109447</td>\n",
       "      <td>0.000000</td>\n",
       "    </tr>\n",
       "    <tr>\n",
       "      <th>1993-11-01</th>\n",
       "      <td>0.762175</td>\n",
       "      <td>1.06640</td>\n",
       "      <td>81.2</td>\n",
       "      <td>6.6</td>\n",
       "      <td>-4.077295</td>\n",
       "      <td>0.058275</td>\n",
       "      <td>4.755414</td>\n",
       "      <td>2.6</td>\n",
       "      <td>-15860.78098</td>\n",
       "      <td>-676.804025</td>\n",
       "      <td>0.069956</td>\n",
       "    </tr>\n",
       "    <tr>\n",
       "      <th>1994-11-01</th>\n",
       "      <td>0.667100</td>\n",
       "      <td>1.11575</td>\n",
       "      <td>91.6</td>\n",
       "      <td>5.6</td>\n",
       "      <td>-4.587534</td>\n",
       "      <td>-0.075080</td>\n",
       "      <td>5.120072</td>\n",
       "      <td>4.1</td>\n",
       "      <td>-12429.20455</td>\n",
       "      <td>-618.354534</td>\n",
       "      <td>0.058500</td>\n",
       "    </tr>\n",
       "    <tr>\n",
       "      <th>1995-11-01</th>\n",
       "      <td>0.485533</td>\n",
       "      <td>1.06225</td>\n",
       "      <td>88.2</td>\n",
       "      <td>5.6</td>\n",
       "      <td>-4.990644</td>\n",
       "      <td>-0.042830</td>\n",
       "      <td>5.594352</td>\n",
       "      <td>2.2</td>\n",
       "      <td>-14721.98639</td>\n",
       "      <td>-742.978904</td>\n",
       "      <td>-0.006632</td>\n",
       "    </tr>\n",
       "    <tr>\n",
       "      <th>1996-11-01</th>\n",
       "      <td>0.722600</td>\n",
       "      <td>1.23225</td>\n",
       "      <td>99.2</td>\n",
       "      <td>5.4</td>\n",
       "      <td>-4.278919</td>\n",
       "      <td>0.029401</td>\n",
       "      <td>5.777011</td>\n",
       "      <td>4.4</td>\n",
       "      <td>-14186.08089</td>\n",
       "      <td>-621.669592</td>\n",
       "      <td>-0.011389</td>\n",
       "    </tr>\n",
       "  </tbody>\n",
       "</table>\n",
       "</div>"
      ],
      "text/plain": [
       "            NYT_sentiment  gas_prices  consumer_sentiments  unemployment_rate  \\\n",
       "DATE                                                                            \n",
       "1992-11-01       0.812100     1.11120                 85.3                7.4   \n",
       "1993-11-01       0.762175     1.06640                 81.2                6.6   \n",
       "1994-11-01       0.667100     1.11575                 91.6                5.6   \n",
       "1995-11-01       0.485533     1.06225                 88.2                5.6   \n",
       "1996-11-01       0.722600     1.23225                 99.2                5.4   \n",
       "\n",
       "                 CPI  Retail_Index_Returns  Consumer_debt_service  GDP_growth  \\\n",
       "DATE                                                                            \n",
       "1992-11-01 -3.664766              0.000000               4.660212         4.4   \n",
       "1993-11-01 -4.077295              0.058275               4.755414         2.6   \n",
       "1994-11-01 -4.587534             -0.075080               5.120072         4.1   \n",
       "1995-11-01 -4.990644             -0.042830               5.594352         2.2   \n",
       "1996-11-01 -4.278919              0.029401               5.777011         4.4   \n",
       "\n",
       "                  sales         GDP  Gold_Returns  \n",
       "DATE                                               \n",
       "1992-11-01 -18182.99304 -576.109447      0.000000  \n",
       "1993-11-01 -15860.78098 -676.804025      0.069956  \n",
       "1994-11-01 -12429.20455 -618.354534      0.058500  \n",
       "1995-11-01 -14721.98639 -742.978904     -0.006632  \n",
       "1996-11-01 -14186.08089 -621.669592     -0.011389  "
      ]
     },
     "execution_count": 29,
     "metadata": {},
     "output_type": "execute_result"
    }
   ],
   "source": [
    "main_df=main_df.drop(columns=[\"Unnamed: 0\"])\n",
    "main_df.head()"
   ]
  },
  {
   "cell_type": "markdown",
   "metadata": {},
   "source": [
    "**I will now begin to analyze the relationship between the returns of the Dow Jones Retail Index and the returns of Gold. My goal/prediction is that there will be a negative correlation. They will move in opposite directions.**"
   ]
  },
  {
   "cell_type": "code",
   "execution_count": 30,
   "metadata": {},
   "outputs": [],
   "source": [
    "retail_returns=main_df[\"Retail_Index_Returns\"]\n",
    "gold_returns=main_df[\"Gold_Returns\"]"
   ]
  },
  {
   "cell_type": "code",
   "execution_count": 31,
   "metadata": {},
   "outputs": [
    {
     "data": {
      "text/plain": [
       "<matplotlib.axes._subplots.AxesSubplot at 0x7fad729d31d0>"
      ]
     },
     "execution_count": 31,
     "metadata": {},
     "output_type": "execute_result"
    },
    {
     "data": {
      "image/png": "[encoded data removed]",
      "text/plain": [
       "<Figure size 432x288 with 1 Axes>"
      ]
     },
     "metadata": {
      "needs_background": "light"
     },
     "output_type": "display_data"
    }
   ],
   "source": [
    "# A plot of returns on of the retail index between November/December from 1992-2019.\n",
    "retail_returns.plot()"
   ]
  },
  {
   "cell_type": "code",
   "execution_count": 32,
   "metadata": {},
   "outputs": [
    {
     "data": {
      "text/plain": [
       "<matplotlib.axes._subplots.AxesSubplot at 0x7fad72049150>"
      ]
     },
     "execution_count": 32,
     "metadata": {},
     "output_type": "execute_result"
    },
    {
     "data": {
      "image/png": "[encoded data removed]",
      "text/plain": [
       "<Figure size 432x288 with 1 Axes>"
      ]
     },
     "metadata": {
      "needs_background": "light"
     },
     "output_type": "display_data"
    }
   ],
   "source": [
    "# A plot of returns on of the gold index between November/December from 1992-2019.\n",
    "gold_returns.plot()"
   ]
  },
  {
   "cell_type": "markdown",
   "metadata": {},
   "source": [
    "**Below I will be running a correlation test to analyze the relationship between the Nov-Dec Dow Retail Index Returns and Nov-Dec Gold Returns. My goal is to see them move as opposite as possible, the ideal would be a score of -1. I will also run one on the Nov-Dec Dow Retail Index and February and March of the preceding year Gold Returns testing the affect of Holiday Sales on Q4 GDP and Q4 GDP on the preceding years initial Q1 Gold offerings.**"
   ]
  },
  {
   "cell_type": "code",
   "execution_count": 33,
   "metadata": {},
   "outputs": [
    {
     "data": {
      "text/plain": [
       "-0.3927238215010166"
      ]
     },
     "execution_count": 33,
     "metadata": {},
     "output_type": "execute_result"
    }
   ],
   "source": [
    "retail_returns.corr(gold_returns)"
   ]
  },
  {
   "cell_type": "markdown",
   "metadata": {},
   "source": [
    "**Above one can see that there is a negative correlation as predicted. We have a score of -0.39. This is solely looking at November/December. I believe that it will be even more negative if we compare Nov/Dec retail to Gold February/March which is when the Q4 report is released.**"
   ]
  },
  {
   "cell_type": "code",
   "execution_count": 34,
   "metadata": {},
   "outputs": [],
   "source": [
    "gold_returns_df=gold_returns.to_frame()"
   ]
  },
  {
   "cell_type": "code",
   "execution_count": 35,
   "metadata": {},
   "outputs": [],
   "source": [
    "retail_returns_df=retail_returns.to_frame()"
   ]
  },
  {
   "cell_type": "code",
   "execution_count": 36,
   "metadata": {},
   "outputs": [],
   "source": [
    "returns_df=gold_returns_df.merge(retail_returns_df, how='outer', left_index=True, right_index=True)"
   ]
  },
  {
   "cell_type": "markdown",
   "metadata": {},
   "source": [
    "**Here we see a plot of the gold returns and retail returns one can see that while gold has steeper movements, they are moving in opposite directions for the most part.**"
   ]
  },
  {
   "cell_type": "code",
   "execution_count": 37,
   "metadata": {},
   "outputs": [
    {
     "data": {
      "text/plain": [
       "<matplotlib.axes._subplots.AxesSubplot at 0x7fad6b1c9150>"
      ]
     },
     "execution_count": 37,
     "metadata": {},
     "output_type": "execute_result"
    },
    {
     "data": {
      "image/png": "[encoded data removed]",
      "text/plain": [
       "<Figure size 432x288 with 1 Axes>"
      ]
     },
     "metadata": {
      "needs_background": "light"
     },
     "output_type": "display_data"
    }
   ],
   "source": [
    "returns_df.plot()"
   ]
  },
  {
   "cell_type": "code",
   "execution_count": 38,
   "metadata": {},
   "outputs": [
    {
     "data": {
      "text/html": [
       "<div>\n",
       "<style scoped>\n",
       "    .dataframe tbody tr th:only-of-type {\n",
       "        vertical-align: middle;\n",
       "    }\n",
       "\n",
       "    .dataframe tbody tr th {\n",
       "        vertical-align: top;\n",
       "    }\n",
       "\n",
       "    .dataframe thead th {\n",
       "        text-align: right;\n",
       "    }\n",
       "</style>\n",
       "<table border=\"1\" class=\"dataframe\">\n",
       "  <thead>\n",
       "    <tr style=\"text-align: right;\">\n",
       "      <th></th>\n",
       "      <th>Gold_Returns</th>\n",
       "      <th>Retail_Index_Returns</th>\n",
       "    </tr>\n",
       "  </thead>\n",
       "  <tbody>\n",
       "    <tr>\n",
       "      <th>Gold_Returns</th>\n",
       "      <td>1.000000</td>\n",
       "      <td>-0.392724</td>\n",
       "    </tr>\n",
       "    <tr>\n",
       "      <th>Retail_Index_Returns</th>\n",
       "      <td>-0.392724</td>\n",
       "      <td>1.000000</td>\n",
       "    </tr>\n",
       "  </tbody>\n",
       "</table>\n",
       "</div>"
      ],
      "text/plain": [
       "                      Gold_Returns  Retail_Index_Returns\n",
       "Gold_Returns              1.000000             -0.392724\n",
       "Retail_Index_Returns     -0.392724              1.000000"
      ]
     },
     "execution_count": 38,
     "metadata": {},
     "output_type": "execute_result"
    }
   ],
   "source": [
    "returns_df.corr()"
   ]
  },
  {
   "cell_type": "code",
   "execution_count": 39,
   "metadata": {},
   "outputs": [],
   "source": [
    "#gold DF February/March 1993-2019"
   ]
  },
  {
   "cell_type": "code",
   "execution_count": 40,
   "metadata": {},
   "outputs": [],
   "source": [
    "#retail index November/December 1992-2019 (DONE)"
   ]
  },
  {
   "cell_type": "code",
   "execution_count": 41,
   "metadata": {},
   "outputs": [],
   "source": [
    "#retail index February/March 1993-2019"
   ]
  },
  {
   "cell_type": "code",
   "execution_count": 42,
   "metadata": {},
   "outputs": [],
   "source": [
    "#correlation and chart for gold feb/march 1993-2019 vs. retail nov/dec 1992-2019"
   ]
  },
  {
   "cell_type": "code",
   "execution_count": 43,
   "metadata": {},
   "outputs": [],
   "source": [
    "#correlation and chart for gold feb/march 1993-2019 vs. retail feb/march 1993-2019"
   ]
  },
  {
   "cell_type": "markdown",
   "metadata": {},
   "source": [
    "### **I will now create two LSTM models with the full features dataframe, one to make unsupervised predictions for holiday sales and another to make predictions of Gold prices.**"
   ]
  },
  {
   "cell_type": "code",
   "execution_count": 44,
   "metadata": {},
   "outputs": [
    {
     "data": {
      "text/html": [
       "<div>\n",
       "<style scoped>\n",
       "    .dataframe tbody tr th:only-of-type {\n",
       "        vertical-align: middle;\n",
       "    }\n",
       "\n",
       "    .dataframe tbody tr th {\n",
       "        vertical-align: top;\n",
       "    }\n",
       "\n",
       "    .dataframe thead th {\n",
       "        text-align: right;\n",
       "    }\n",
       "</style>\n",
       "<table border=\"1\" class=\"dataframe\">\n",
       "  <thead>\n",
       "    <tr style=\"text-align: right;\">\n",
       "      <th></th>\n",
       "      <th>NYT_sentiment</th>\n",
       "      <th>gas_prices</th>\n",
       "      <th>consumer_sentiments</th>\n",
       "      <th>unemployment_rate</th>\n",
       "      <th>CPI</th>\n",
       "      <th>Retail_Index_Returns</th>\n",
       "      <th>Consumer_debt_service</th>\n",
       "      <th>GDP_growth</th>\n",
       "      <th>sales</th>\n",
       "      <th>GDP</th>\n",
       "      <th>Gold_Returns</th>\n",
       "    </tr>\n",
       "    <tr>\n",
       "      <th>DATE</th>\n",
       "      <th></th>\n",
       "      <th></th>\n",
       "      <th></th>\n",
       "      <th></th>\n",
       "      <th></th>\n",
       "      <th></th>\n",
       "      <th></th>\n",
       "      <th></th>\n",
       "      <th></th>\n",
       "      <th></th>\n",
       "      <th></th>\n",
       "    </tr>\n",
       "  </thead>\n",
       "  <tbody>\n",
       "    <tr>\n",
       "      <th>1992-11-01</th>\n",
       "      <td>0.812100</td>\n",
       "      <td>1.11120</td>\n",
       "      <td>85.3</td>\n",
       "      <td>7.4</td>\n",
       "      <td>-3.664766</td>\n",
       "      <td>0.000000</td>\n",
       "      <td>4.660212</td>\n",
       "      <td>4.4</td>\n",
       "      <td>-18182.99304</td>\n",
       "      <td>-576.109447</td>\n",
       "      <td>0.000000</td>\n",
       "    </tr>\n",
       "    <tr>\n",
       "      <th>1993-11-01</th>\n",
       "      <td>0.762175</td>\n",
       "      <td>1.06640</td>\n",
       "      <td>81.2</td>\n",
       "      <td>6.6</td>\n",
       "      <td>-4.077295</td>\n",
       "      <td>0.058275</td>\n",
       "      <td>4.755414</td>\n",
       "      <td>2.6</td>\n",
       "      <td>-15860.78098</td>\n",
       "      <td>-676.804025</td>\n",
       "      <td>0.069956</td>\n",
       "    </tr>\n",
       "    <tr>\n",
       "      <th>1994-11-01</th>\n",
       "      <td>0.667100</td>\n",
       "      <td>1.11575</td>\n",
       "      <td>91.6</td>\n",
       "      <td>5.6</td>\n",
       "      <td>-4.587534</td>\n",
       "      <td>-0.075080</td>\n",
       "      <td>5.120072</td>\n",
       "      <td>4.1</td>\n",
       "      <td>-12429.20455</td>\n",
       "      <td>-618.354534</td>\n",
       "      <td>0.058500</td>\n",
       "    </tr>\n",
       "    <tr>\n",
       "      <th>1995-11-01</th>\n",
       "      <td>0.485533</td>\n",
       "      <td>1.06225</td>\n",
       "      <td>88.2</td>\n",
       "      <td>5.6</td>\n",
       "      <td>-4.990644</td>\n",
       "      <td>-0.042830</td>\n",
       "      <td>5.594352</td>\n",
       "      <td>2.2</td>\n",
       "      <td>-14721.98639</td>\n",
       "      <td>-742.978904</td>\n",
       "      <td>-0.006632</td>\n",
       "    </tr>\n",
       "    <tr>\n",
       "      <th>1996-11-01</th>\n",
       "      <td>0.722600</td>\n",
       "      <td>1.23225</td>\n",
       "      <td>99.2</td>\n",
       "      <td>5.4</td>\n",
       "      <td>-4.278919</td>\n",
       "      <td>0.029401</td>\n",
       "      <td>5.777011</td>\n",
       "      <td>4.4</td>\n",
       "      <td>-14186.08089</td>\n",
       "      <td>-621.669592</td>\n",
       "      <td>-0.011389</td>\n",
       "    </tr>\n",
       "  </tbody>\n",
       "</table>\n",
       "</div>"
      ],
      "text/plain": [
       "            NYT_sentiment  gas_prices  consumer_sentiments  unemployment_rate  \\\n",
       "DATE                                                                            \n",
       "1992-11-01       0.812100     1.11120                 85.3                7.4   \n",
       "1993-11-01       0.762175     1.06640                 81.2                6.6   \n",
       "1994-11-01       0.667100     1.11575                 91.6                5.6   \n",
       "1995-11-01       0.485533     1.06225                 88.2                5.6   \n",
       "1996-11-01       0.722600     1.23225                 99.2                5.4   \n",
       "\n",
       "                 CPI  Retail_Index_Returns  Consumer_debt_service  GDP_growth  \\\n",
       "DATE                                                                            \n",
       "1992-11-01 -3.664766              0.000000               4.660212         4.4   \n",
       "1993-11-01 -4.077295              0.058275               4.755414         2.6   \n",
       "1994-11-01 -4.587534             -0.075080               5.120072         4.1   \n",
       "1995-11-01 -4.990644             -0.042830               5.594352         2.2   \n",
       "1996-11-01 -4.278919              0.029401               5.777011         4.4   \n",
       "\n",
       "                  sales         GDP  Gold_Returns  \n",
       "DATE                                               \n",
       "1992-11-01 -18182.99304 -576.109447      0.000000  \n",
       "1993-11-01 -15860.78098 -676.804025      0.069956  \n",
       "1994-11-01 -12429.20455 -618.354534      0.058500  \n",
       "1995-11-01 -14721.98639 -742.978904     -0.006632  \n",
       "1996-11-01 -14186.08089 -621.669592     -0.011389  "
      ]
     },
     "execution_count": 44,
     "metadata": {},
     "output_type": "execute_result"
    }
   ],
   "source": [
    "main_df.hea"
   ]
  },
  {
   "cell_type": "code",
   "execution_count": 45,
   "metadata": {},
   "outputs": [],
   "source": [
    "# Create my features and target.\n",
    "y=main_df[\"sales\"].values\n",
    "X=main_df.drop(columns=[\"sales\"]).values"
   ]
  },
  {
   "cell_type": "code",
   "execution_count": 46,
   "metadata": {},
   "outputs": [
    {
     "data": {
      "text/plain": [
       "array([ -18182.99304 ,  -15860.78098 ,  -12429.20455 ,  -14721.98639 ,\n",
       "        -14186.08089 ,  -15907.2412  ,  -14045.35416 ,   -4767.36459 ,\n",
       "         -4842.438969,   -4182.764165,  -10241.50053 ,   -4139.194174,\n",
       "          5678.009712,   15391.55295 ,   18748.32859 ,   30654.60998 ,\n",
       "        -14172.04726 ,  -12957.24661 ,    4820.265943,   24356.84272 ,\n",
       "         36892.82336 ,   47667.32448 ,   66604.40469 ,   73353.33051 ,\n",
       "         87065.74071 ,  116289.4282  ,  136264.7699  ,  155602.4617  ,\n",
       "       -143836.9658  , -125760.2338  , -107366.1652  ,  -93826.98285 ,\n",
       "        -79945.80565 ,  -69531.11071 ,  -54482.40899 ,  -32070.75453 ,\n",
       "        -27909.14982 ,  -24116.55318 ,  -17873.47966 ,  -10306.3715  ,\n",
       "          6826.500005,   14695.30502 ,   21482.94717 ,   23554.14551 ,\n",
       "        -26505.80776 ,  -20602.34178 ,   -8292.319532,    2456.27243 ,\n",
       "          6906.630272,    8986.414982,   10382.97091 ,    8444.025888,\n",
       "         13296.8184  ,   23557.30941 ,   14725.14937 ,   28358.26541 ])"
      ]
     },
     "execution_count": 46,
     "metadata": {},
     "output_type": "execute_result"
    }
   ],
   "source": [
    "y"
   ]
  },
  {
   "cell_type": "code",
   "execution_count": 47,
   "metadata": {},
   "outputs": [],
   "source": [
    "y=y.reshape(-1,1)\n",
    "#y=np.reshape(y.shape[0],1,y.shape[1])"
   ]
  },
  {
   "cell_type": "code",
   "execution_count": 48,
   "metadata": {},
   "outputs": [],
   "source": [
    "X=X.reshape(-1,10)\n",
    "#X=X.reshape(X.shape[0],1,X.shape[1])"
   ]
  },
  {
   "cell_type": "code",
   "execution_count": 49,
   "metadata": {},
   "outputs": [
    {
     "data": {
      "text/plain": [
       "(56, 10)"
      ]
     },
     "execution_count": 49,
     "metadata": {},
     "output_type": "execute_result"
    }
   ],
   "source": [
    "X.shape"
   ]
  },
  {
   "cell_type": "code",
   "execution_count": 50,
   "metadata": {},
   "outputs": [
    {
     "data": {
      "text/plain": [
       "array([[ 8.12100000e-01,  1.11120000e+00,  8.53000000e+01,\n",
       "         7.40000000e+00, -3.66476565e+00,  0.00000000e+00,\n",
       "         4.66021200e+00,  4.40000000e+00, -5.76109447e+02,\n",
       "         0.00000000e+00],\n",
       "       [ 7.62175000e-01,  1.06640000e+00,  8.12000000e+01,\n",
       "         6.60000000e+00, -4.07729527e+00,  5.82748025e-02,\n",
       "         4.75541400e+00,  2.60000000e+00, -6.76804025e+02,\n",
       "         6.99558174e-02],\n",
       "       [ 6.67100000e-01,  1.11575000e+00,  9.16000000e+01,\n",
       "         5.60000000e+00, -4.58753441e+00, -7.50803692e-02,\n",
       "         5.12007200e+00,  4.10000000e+00, -6.18354534e+02,\n",
       "         5.84996559e-02],\n",
       "       [ 4.85533333e-01,  1.06225000e+00,  8.82000000e+01,\n",
       "         5.60000000e+00, -4.99064428e+00, -4.28299137e-02,\n",
       "         5.59435200e+00,  2.20000000e+00, -7.42978904e+02,\n",
       "        -6.63198960e-03],\n",
       "       [ 7.22600000e-01,  1.23225000e+00,  9.92000000e+01,\n",
       "         5.40000000e+00, -4.27891889e+00,  2.94014291e-02,\n",
       "         5.77701100e+00,  4.40000000e+00, -6.21669592e+02,\n",
       "        -1.13889253e-02],\n",
       "       [ 8.55950000e-01,  1.17075000e+00,  1.07200000e+02,\n",
       "         4.60000000e+00, -5.54153309e+00,  1.12994993e-01,\n",
       "         5.70566600e+00,  4.50000000e+00, -4.67952693e+02,\n",
       "        -1.68961864e-01],\n",
       "       [ 3.48533333e-01,  9.95400000e-01,  1.02700000e+02,\n",
       "         4.40000000e+00, -7.36498740e+00, -1.66649627e-02,\n",
       "         5.76109300e+00,  4.90000000e+00, -2.39847761e+02,\n",
       "        -6.72402804e-02],\n",
       "       [ 3.73900000e-01,  1.25140000e+00,  1.07200000e+02,\n",
       "         4.10000000e+00, -7.23231888e+00,  5.95757954e-02,\n",
       "         5.95983000e+00,  4.80000000e+00,  1.55271233e+01,\n",
       "        -4.61223095e-03],\n",
       "       [ 3.27100000e-01,  1.51725000e+00,  1.07600000e+02,\n",
       "         3.90000000e+00, -5.52196151e+00,  1.29427927e-01,\n",
       "         6.34126600e+00,  3.00000000e+00,  7.39707830e+01,\n",
       "        -8.87249013e-02],\n",
       "       [-1.61250000e-01,  1.17050000e+00,  8.39000000e+01,\n",
       "         5.50000000e+00, -6.20782901e+00,  3.90964379e-03,\n",
       "         6.71224800e+00,  2.00000000e-01, -2.16941663e+02,\n",
       "         5.68738230e-02],\n",
       "       [ 5.85900000e-01,  1.41900000e+00,  8.42000000e+01,\n",
       "         5.90000000e+00, -6.06038392e+00, -7.83210731e-02,\n",
       "         6.50253600e+00,  2.10000000e+00, -2.34421329e+02,\n",
       "         1.39878831e-01],\n",
       "       [ 5.78900000e-01,  1.51200000e+00,  9.37000000e+01,\n",
       "         5.80000000e+00, -6.24620887e+00, -1.52300469e-01,\n",
       "         6.37115300e+00,  4.30000000e+00,  7.46962621e+01,\n",
       "         1.98217915e-01],\n",
       "       [ 5.79500000e-02,  1.97940000e+00,  9.28000000e+01,\n",
       "         5.40000000e+00, -3.02809875e+00, -9.37084626e-02,\n",
       "         6.23775100e+00,  3.30000000e+00,  2.82280098e+02,\n",
       "         1.18982387e-01],\n",
       "       [ 4.08385714e-01,  2.25675000e+00,  8.16000000e+01,\n",
       "         5.00000000e+00,  1.35055426e-01,  1.18430702e-01,\n",
       "         6.10349000e+00,  3.10000000e+00,  5.05846483e+02,\n",
       "         7.14702110e-02],\n",
       "       [ 4.18750000e-02,  2.22925000e+00,  9.21000000e+01,\n",
       "         4.50000000e+00,  1.08625521e+00, -9.46344662e-02,\n",
       "         5.91976300e+00,  2.60000000e+00,  6.88983295e+02,\n",
       "         3.36452666e-01],\n",
       "       [ 8.54571430e-02,  3.08000000e+00,  7.61000000e+01,\n",
       "         4.70000000e+00,  7.30241773e+00, -8.06276403e-02,\n",
       "         6.00891000e+00,  2.00000000e+00,  8.14940258e+02,\n",
       "         2.86842534e-01],\n",
       "       [ 4.19380000e-01,  2.14700000e+00,  5.53000000e+01,\n",
       "         6.80000000e+00,  7.37678124e+00,  1.38309046e-01,\n",
       "         5.86467000e+00, -2.80000000e+00,  2.31751483e+02,\n",
       "        -7.68744068e-02],\n",
       "       [ 2.97650000e-01,  2.65140000e+00,  6.74000000e+01,\n",
       "         9.90000000e+00,  9.62401994e+00, -1.35747650e-01,\n",
       "         5.41797800e+00,  2.00000000e-01,  1.41578743e+02,\n",
       "         4.55791638e-01],\n",
       "       [ 3.78350000e-01,  2.85900000e+00,  7.16000000e+01,\n",
       "         9.80000000e+00,  1.05901976e+01,  8.45532795e-02,\n",
       "         5.02798300e+00,  2.60000000e+00,  4.50053963e+02,\n",
       "         2.75423729e-01],\n",
       "       [ 0.00000000e+00,  3.38375000e+00,  6.37000000e+01,\n",
       "         8.60000000e+00,  1.72503628e+01, -3.42065435e-02,\n",
       "         5.01364500e+00,  1.60000000e+00,  6.50534587e+02,\n",
       "         2.54337394e-01],\n",
       "       [ 1.49275000e-01,  3.45175000e+00,  8.27000000e+01,\n",
       "         7.70000000e+00,  2.09029456e+01,  2.13018053e-02,\n",
       "         4.87759700e+00,  1.50000000e+00,  8.66351770e+02,\n",
       "         1.01530312e-02],\n",
       "       [ 4.58200000e-01,  3.24275000e+00,  7.51000000e+01,\n",
       "         6.90000000e+00,  2.38275942e+01,  6.16244402e-03,\n",
       "         5.21036700e+00,  2.60000000e+00,  1.30572708e+03,\n",
       "        -2.38601602e-01],\n",
       "       [ 1.15883333e-01,  2.91225000e+00,  8.88000000e+01,\n",
       "         5.80000000e+00,  2.72818928e+01,  9.61602837e-02,\n",
       "         5.29670900e+00,  2.90000000e+00,  1.83380764e+03,\n",
       "        -1.06370767e-01],\n",
       "       [ 3.88111111e-01,  2.15800000e+00,  9.13000000e+01,\n",
       "         5.10000000e+00,  2.93665329e+01,  1.33430604e-01,\n",
       "         5.39925200e+00,  2.20000000e+00,  2.28628345e+03,\n",
       "        -2.89017341e-02],\n",
       "       [ 0.00000000e+00,  2.18150000e+00,  9.38000000e+01,\n",
       "         4.70000000e+00,  3.48371554e+01,  1.32621495e-02,\n",
       "         5.59175000e+00,  2.10000000e+00,  2.76039941e+03,\n",
       "         1.36199295e-01],\n",
       "       [ 4.99420000e-01,  2.56350000e+00,  9.85000000e+01,\n",
       "         4.20000000e+00,  4.20620466e+01, -8.40760693e-02,\n",
       "         5.57667800e+00,  2.70000000e+00,  3.38255650e+03,\n",
       "        -8.84784043e-03],\n",
       "       [ 3.27625000e-01,  2.64725000e+00,  9.75000000e+01,\n",
       "         3.70000000e+00,  4.95907200e+01,  4.50958044e-02,\n",
       "         5.52013000e+00,  2.50000000e+00,  3.99748942e+03,\n",
       "        -3.59422106e-02],\n",
       "       [ 0.00000000e+00,  2.59775000e+00,  9.68000000e+01,\n",
       "         3.50000000e+00,  5.71653999e+01,  1.03502202e-02,\n",
       "         5.61413100e+00,  2.30000000e+00,  4.61202380e+03,\n",
       "         1.86882183e-01],\n",
       "       [ 4.58857143e-01,  1.07750000e+00,  9.10000000e+01,\n",
       "         7.40000000e+00, -5.58656833e+01, -4.41131545e-02,\n",
       "         4.66021200e+00,  4.40000000e+00, -4.62885018e+03,\n",
       "        -7.70980612e-01],\n",
       "       [ 5.00550000e-01,  1.01400000e+00,  8.82000000e+01,\n",
       "         6.50000000e+00, -4.94610276e+01,  3.82443805e-02,\n",
       "         4.75541400e+00,  2.60000000e+00, -4.20252183e+03,\n",
       "         1.14896160e-01],\n",
       "       [ 3.66666667e-01,  1.09050000e+00,  9.51000000e+01,\n",
       "         5.50000000e+00, -4.34782151e+01, -8.99856351e-02,\n",
       "         5.12007200e+00,  4.10000000e+00, -3.63616446e+03,\n",
       "         1.87617261e-02],\n",
       "       [-1.33071429e-01,  1.07125000e+00,  9.10000000e+01,\n",
       "         5.60000000e+00, -3.78199147e+01, -4.35223813e-02,\n",
       "         5.59435200e+00,  2.20000000e+00, -3.28012179e+03,\n",
       "         1.60484083e-02],\n",
       "       [ 3.78528571e-01,  1.23520000e+00,  9.69000000e+01,\n",
       "         5.40000000e+00, -3.11616212e+01,  3.57184958e-02,\n",
       "         5.77701100e+00,  4.40000000e+00, -2.71162593e+03,\n",
       "        -4.00051787e-02],\n",
       "       [ 3.62400000e-01,  1.13140000e+00,  1.02100000e+02,\n",
       "         4.70000000e+00, -2.74551923e+01,  1.33280219e-01,\n",
       "         5.70566600e+00,  4.50000000e+00, -2.14885691e+03,\n",
       "        -2.06068780e-01],\n",
       "       [ 6.84171429e-01,  9.45000000e-01,  1.00500000e+02,\n",
       "         4.40000000e+00, -2.43330095e+01, -5.63422718e-02,\n",
       "         5.76109300e+00,  4.90000000e+00, -1.55318203e+03,\n",
       "        -3.56718193e-03],\n",
       "       [ 3.93728571e-01,  1.27250000e+00,  1.05400000e+02,\n",
       "         4.00000000e+00, -1.99102948e+01,  8.05661984e-02,\n",
       "         5.95983000e+00,  4.80000000e+00, -9.74016502e+02,\n",
       "        -1.41493352e-02],\n",
       "       [ 1.87512500e-01,  1.44275000e+00,  9.84000000e+01,\n",
       "         3.90000000e+00, -1.45870620e+01,  7.63321186e-02,\n",
       "         6.34126600e+00,  3.00000000e+00, -6.37037840e+02,\n",
       "        -6.89953311e-02],\n",
       "       [-1.07625000e-01,  1.08600000e+00,  8.88000000e+01,\n",
       "         5.70000000e+00, -1.27508812e+01,  7.25658858e-02,\n",
       "         6.71224800e+00,  2.00000000e-01, -6.95528778e+02,\n",
       "         2.65601783e-02],\n",
       "       [ 1.38055556e-01,  1.38580000e+00,  8.67000000e+01,\n",
       "         6.00000000e+00, -9.78020545e+00, -1.27548844e-01,\n",
       "         6.50253600e+00,  2.10000000e+00, -5.27113908e+02,\n",
       "         1.45105844e-01],\n",
       "       [ 4.00457143e-01,  1.47880000e+00,  9.26000000e+01,\n",
       "         5.70000000e+00, -7.94551842e+00, -1.46684921e-01,\n",
       "         6.37115300e+00,  4.30000000e+00, -7.87431155e+01,\n",
       "         2.64812767e-01],\n",
       "       [ 5.85150000e-01,  1.84100000e+00,  9.71000000e+01,\n",
       "         5.40000000e+00, -4.01119126e+00, -7.17396287e-02,\n",
       "         6.23775100e+00,  3.30000000e+00,  2.21521162e+02,\n",
       "         1.31417864e-01],\n",
       "       [ 9.09933333e-01,  2.18500000e+00,  9.15000000e+01,\n",
       "         4.90000000e+00, -2.36629142e-01,  1.22962963e-01,\n",
       "         6.10349000e+00,  3.10000000e+00,  4.91359700e+02,\n",
       "         1.03566302e-01],\n",
       "       [ 1.55633333e-01,  2.31275000e+00,  9.17000000e+01,\n",
       "         4.40000000e+00,  1.82126977e+00, -8.27836412e-02,\n",
       "         5.91976300e+00,  2.60000000e+00,  6.74562823e+02,\n",
       "         2.98149075e-01],\n",
       "       [ 1.51166667e-01,  3.01840000e+00,  7.55000000e+01,\n",
       "         5.00000000e+00,  6.95075517e+00, -8.06664269e-02,\n",
       "         6.00891000e+00,  2.00000000e+00,  7.54591756e+02,\n",
       "         2.08863198e-01],\n",
       "       [ 2.75620000e-01,  1.68700000e+00,  6.01000000e+01,\n",
       "         7.30000000e+00,  3.45693851e+00,  7.10560626e-02,\n",
       "         5.86467000e+00, -2.80000000e+00,  7.97011234e+01,\n",
       "        -7.96939751e-03],\n",
       "       [ 5.23625000e-01,  2.60725000e+00,  7.25000000e+01,\n",
       "         9.90000000e+00,  5.76558698e+00, -4.78393183e-02,\n",
       "         5.41797800e+00,  2.00000000e-01, -1.47689072e+02,\n",
       "         5.32776350e-01],\n",
       "       [ 1.44425000e-01,  2.99300000e+00,  7.45000000e+01,\n",
       "         9.30000000e+00,  5.09230719e+00,  1.36537970e-02,\n",
       "         5.02798300e+00,  2.60000000e+00, -2.15936406e+01,\n",
       "         1.61844864e-01],\n",
       "       [ 1.42437500e-01,  3.26575000e+00,  6.99000000e+01,\n",
       "         8.50000000e+00,  7.91910227e+00,  1.55635153e-02,\n",
       "         5.01364500e+00,  1.60000000e+00, -4.81210853e+01,\n",
       "         2.64525442e-01],\n",
       "       [ 3.82016667e-01,  3.31040000e+00,  7.29000000e+01,\n",
       "         7.90000000e+00,  7.89579265e+00, -8.08474703e-03,\n",
       "         4.87759700e+00,  1.50000000e+00, -1.03111414e+02,\n",
       "        -1.82648402e-02],\n",
       "       [-2.98725000e-01,  3.27640000e+00,  8.25000000e+01,\n",
       "         6.70000000e+00,  7.29924933e+00,  3.98142004e-03,\n",
       "         5.21036700e+00,  2.60000000e+00,  2.29224396e+01,\n",
       "        -2.85174419e-01],\n",
       "       [ 2.45875000e-01,  2.54260000e+00,  9.36000000e+01,\n",
       "         5.60000000e+00,  4.68340842e+00,  1.30416890e-01,\n",
       "         5.29670900e+00,  2.90000000e+00,  1.96998989e+02,\n",
       "        -2.88735258e-02],\n",
       "       [-4.21500000e-01,  2.03750000e+00,  9.26000000e+01,\n",
       "         5.00000000e+00,  2.00364402e+00,  8.93355544e-02,\n",
       "         5.39925200e+00,  2.20000000e+00,  2.57481420e+02,\n",
       "        -1.07705193e-01],\n",
       "       [ 3.02650000e-01,  2.25425000e+00,  9.82000000e+01,\n",
       "         4.70000000e+00,  2.73740310e+00,  3.58600435e-02,\n",
       "         5.59175000e+00,  2.10000000e+00,  3.05310794e+02,\n",
       "         9.05293786e-02],\n",
       "       [ 0.00000000e+00,  2.47675000e+00,  9.59000000e+01,\n",
       "         4.10000000e+00,  3.63688032e+00, -1.02262284e-01,\n",
       "         5.57667800e+00,  2.70000000e+00,  4.71852246e+02,\n",
       "         9.78181349e-02],\n",
       "       [ 3.46600000e-01,  2.36560000e+00,  9.83000000e+01,\n",
       "         3.90000000e+00,  4.19755951e+00,  4.25696426e-02,\n",
       "         5.52013000e+00,  2.50000000e+00,  6.08339093e+02,\n",
       "        -3.54370835e-02],\n",
       "       [ 2.22725000e-01,  2.55500000e+00,  9.93000000e+01,\n",
       "         3.50000000e+00,  5.73965142e+00,  3.37389669e-03,\n",
       "         5.61413100e+00,  2.30000000e+00,  7.29914743e+02,\n",
       "         2.66333415e-01]])"
      ]
     },
     "execution_count": 50,
     "metadata": {},
     "output_type": "execute_result"
    }
   ],
   "source": [
    "X"
   ]
  },
  {
   "cell_type": "code",
   "execution_count": 51,
   "metadata": {},
   "outputs": [
    {
     "data": {
      "text/plain": [
       "(56, 1)"
      ]
     },
     "execution_count": 51,
     "metadata": {},
     "output_type": "execute_result"
    }
   ],
   "source": [
    "y.shape"
   ]
  },
  {
   "cell_type": "code",
   "execution_count": 52,
   "metadata": {},
   "outputs": [
    {
     "data": {
      "text/plain": [
       "array([[-18182.99304],\n",
       "       [-15860.78098]])"
      ]
     },
     "execution_count": 52,
     "metadata": {},
     "output_type": "execute_result"
    }
   ],
   "source": [
    "y[:2]"
   ]
  },
  {
   "cell_type": "code",
   "execution_count": 53,
   "metadata": {},
   "outputs": [
    {
     "data": {
      "text/plain": [
       "(56, 10)"
      ]
     },
     "execution_count": 53,
     "metadata": {},
     "output_type": "execute_result"
    }
   ],
   "source": [
    "X.shape"
   ]
  },
  {
   "cell_type": "code",
   "execution_count": 54,
   "metadata": {},
   "outputs": [],
   "source": [
    "# Split the data so I can use 70% of the data for training and the remainder for testing.\n",
    "split = int(0.7 * len(X))"
   ]
  },
  {
   "cell_type": "code",
   "execution_count": 55,
   "metadata": {},
   "outputs": [],
   "source": [
    "X_train = X[: split]"
   ]
  },
  {
   "cell_type": "code",
   "execution_count": 56,
   "metadata": {},
   "outputs": [],
   "source": [
    "X_test = X[split:]"
   ]
  },
  {
   "cell_type": "code",
   "execution_count": 57,
   "metadata": {},
   "outputs": [],
   "source": [
    "y_train = y[: split]"
   ]
  },
  {
   "cell_type": "code",
   "execution_count": 58,
   "metadata": {},
   "outputs": [],
   "source": [
    "y_test = y[split:]"
   ]
  },
  {
   "cell_type": "code",
   "execution_count": 59,
   "metadata": {},
   "outputs": [],
   "source": [
    "# Use the MinMaxScaler to scale data between 0 and 1.\n",
    "scaler = MinMaxScaler()"
   ]
  },
  {
   "cell_type": "code",
   "execution_count": 60,
   "metadata": {},
   "outputs": [
    {
     "data": {
      "text/plain": [
       "MinMaxScaler(copy=True, feature_range=(0, 1))"
      ]
     },
     "execution_count": 60,
     "metadata": {},
     "output_type": "execute_result"
    }
   ],
   "source": [
    "scaler.fit(X)"
   ]
  },
  {
   "cell_type": "code",
   "execution_count": 61,
   "metadata": {},
   "outputs": [],
   "source": [
    "X_train = scaler.transform(X_train)"
   ]
  },
  {
   "cell_type": "code",
   "execution_count": 62,
   "metadata": {},
   "outputs": [],
   "source": [
    "X_test = scaler.transform(X_test)"
   ]
  },
  {
   "cell_type": "code",
   "execution_count": 63,
   "metadata": {},
   "outputs": [
    {
     "data": {
      "text/plain": [
       "MinMaxScaler(copy=True, feature_range=(0, 1))"
      ]
     },
     "execution_count": 63,
     "metadata": {},
     "output_type": "execute_result"
    }
   ],
   "source": [
    "scaler.fit(y)"
   ]
  },
  {
   "cell_type": "code",
   "execution_count": 64,
   "metadata": {},
   "outputs": [],
   "source": [
    "y_train = scaler.transform(y_train)"
   ]
  },
  {
   "cell_type": "code",
   "execution_count": 65,
   "metadata": {},
   "outputs": [],
   "source": [
    "y_test = scaler.transform(y_test)"
   ]
  },
  {
   "cell_type": "code",
   "execution_count": 66,
   "metadata": {},
   "outputs": [
    {
     "data": {
      "text/plain": [
       "(17, 1)"
      ]
     },
     "execution_count": 66,
     "metadata": {},
     "output_type": "execute_result"
    }
   ],
   "source": [
    "y_test.shape"
   ]
  },
  {
   "cell_type": "code",
   "execution_count": 67,
   "metadata": {},
   "outputs": [
    {
     "data": {
      "text/plain": [
       "(39, 1)"
      ]
     },
     "execution_count": 67,
     "metadata": {},
     "output_type": "execute_result"
    }
   ],
   "source": [
    "y_train.shape"
   ]
  },
  {
   "cell_type": "code",
   "execution_count": 68,
   "metadata": {},
   "outputs": [
    {
     "data": {
      "text/plain": [
       "(17, 10)"
      ]
     },
     "execution_count": 68,
     "metadata": {},
     "output_type": "execute_result"
    }
   ],
   "source": [
    "X_test.shape"
   ]
  },
  {
   "cell_type": "code",
   "execution_count": 69,
   "metadata": {},
   "outputs": [
    {
     "data": {
      "text/plain": [
       "(39, 10)"
      ]
     },
     "execution_count": 69,
     "metadata": {},
     "output_type": "execute_result"
    }
   ],
   "source": [
    "X_train.shape"
   ]
  },
  {
   "cell_type": "code",
   "execution_count": 70,
   "metadata": {},
   "outputs": [],
   "source": [
    "X_train = X_train.reshape((X_train.shape[0], X_train.shape[1], 1))"
   ]
  },
  {
   "cell_type": "code",
   "execution_count": 71,
   "metadata": {},
   "outputs": [],
   "source": [
    "X_test = X_test.reshape((X_test.shape[0], X_test.shape[1], 1))"
   ]
  },
  {
   "cell_type": "code",
   "execution_count": 72,
   "metadata": {},
   "outputs": [],
   "source": [
    "# Create the instance of my Sequential model.\n",
    "model = Sequential()"
   ]
  },
  {
   "cell_type": "code",
   "execution_count": 73,
   "metadata": {},
   "outputs": [],
   "source": [
    "number_units = 1000\n",
    "dropout_fraction = 0.2"
   ]
  },
  {
   "cell_type": "code",
   "execution_count": 74,
   "metadata": {},
   "outputs": [],
   "source": [
    "# This is Layer 1.\n",
    "model.add(LSTM(units=number_units,return_sequences=True,input_shape=(X_train.shape[1],1)))\n",
    "model.add(Dropout(dropout_fraction))"
   ]
  },
  {
   "cell_type": "code",
   "execution_count": 75,
   "metadata": {},
   "outputs": [],
   "source": [
    "# This is Layer 2.\n",
    "model.add(LSTM(units=number_units, return_sequences=True))\n",
    "model.add(Dropout(dropout_fraction))"
   ]
  },
  {
   "cell_type": "code",
   "execution_count": 76,
   "metadata": {},
   "outputs": [],
   "source": [
    "# This is Layer 3.\n",
    "model.add(LSTM(units=number_units))\n",
    "model.add(Dropout(dropout_fraction))"
   ]
  },
  {
   "cell_type": "code",
   "execution_count": 77,
   "metadata": {},
   "outputs": [],
   "source": [
    "# Here I create my output layer.\n",
    "model.add(Dense(1))"
   ]
  },
  {
   "cell_type": "code",
   "execution_count": 78,
   "metadata": {},
   "outputs": [],
   "source": [
    "model.compile(optimizer=\"adam\",loss=\"mean_squared_error\")"
   ]
  },
  {
   "cell_type": "code",
   "execution_count": 79,
   "metadata": {},
   "outputs": [
    {
     "name": "stdout",
     "output_type": "stream",
     "text": [
      "Model: \"sequential\"\n",
      "_________________________________________________________________\n",
      "Layer (type)                 Output Shape              Param #   \n",
      "=================================================================\n",
      "lstm (LSTM)                  (None, 10, 1000)          4008000   \n",
      "_________________________________________________________________\n",
      "dropout (Dropout)            (None, 10, 1000)          0         \n",
      "_________________________________________________________________\n",
      "lstm_1 (LSTM)                (None, 10, 1000)          8004000   \n",
      "_________________________________________________________________\n",
      "dropout_1 (Dropout)          (None, 10, 1000)          0         \n",
      "_________________________________________________________________\n",
      "lstm_2 (LSTM)                (None, 1000)              8004000   \n",
      "_________________________________________________________________\n",
      "dropout_2 (Dropout)          (None, 1000)              0         \n",
      "_________________________________________________________________\n",
      "dense (Dense)                (None, 1)                 1001      \n",
      "=================================================================\n",
      "Total params: 20,017,001\n",
      "Trainable params: 20,017,001\n",
      "Non-trainable params: 0\n",
      "_________________________________________________________________\n"
     ]
    }
   ],
   "source": [
    "model.summary()"
   ]
  },
  {
   "cell_type": "code",
   "execution_count": 80,
   "metadata": {},
   "outputs": [
    {
     "name": "stdout",
     "output_type": "stream",
     "text": [
      "Epoch 1/100\n",
      "8/8 [==============================] - 6s 743ms/step - loss: 0.1006\n",
      "Epoch 2/100\n",
      "8/8 [==============================] - 6s 704ms/step - loss: 0.0648\n",
      "Epoch 3/100\n",
      "8/8 [==============================] - 5s 671ms/step - loss: 0.1028\n",
      "Epoch 4/100\n",
      "8/8 [==============================] - 5s 649ms/step - loss: 0.0577\n",
      "Epoch 5/100\n",
      "8/8 [==============================] - 5s 642ms/step - loss: 0.0456\n",
      "Epoch 6/100\n",
      "8/8 [==============================] - 5s 670ms/step - loss: 0.0447\n",
      "Epoch 7/100\n",
      "8/8 [==============================] - 5s 641ms/step - loss: 0.0430\n",
      "Epoch 8/100\n",
      "8/8 [==============================] - 5s 655ms/step - loss: 0.0384\n",
      "Epoch 9/100\n",
      "8/8 [==============================] - 6s 689ms/step - loss: 0.0396\n",
      "Epoch 10/100\n",
      "8/8 [==============================] - 5s 651ms/step - loss: 0.0364\n",
      "Epoch 11/100\n",
      "8/8 [==============================] - 5s 671ms/step - loss: 0.0354\n",
      "Epoch 12/100\n",
      "8/8 [==============================] - 6s 706ms/step - loss: 0.0371\n",
      "Epoch 13/100\n",
      "8/8 [==============================] - 5s 669ms/step - loss: 0.0324\n",
      "Epoch 14/100\n",
      "8/8 [==============================] - 5s 637ms/step - loss: 0.0254\n",
      "Epoch 15/100\n",
      "8/8 [==============================] - 5s 647ms/step - loss: 0.0275\n",
      "Epoch 16/100\n",
      "8/8 [==============================] - 5s 654ms/step - loss: 0.0280\n",
      "Epoch 17/100\n",
      "8/8 [==============================] - 5s 649ms/step - loss: 0.0210\n",
      "Epoch 18/100\n",
      "8/8 [==============================] - 5s 652ms/step - loss: 0.0198\n",
      "Epoch 19/100\n",
      "8/8 [==============================] - 5s 645ms/step - loss: 0.0214\n",
      "Epoch 20/100\n",
      "8/8 [==============================] - 5s 641ms/step - loss: 0.0165\n",
      "Epoch 21/100\n",
      "8/8 [==============================] - 5s 642ms/step - loss: 0.0167\n",
      "Epoch 22/100\n",
      "8/8 [==============================] - 5s 669ms/step - loss: 0.0156\n",
      "Epoch 23/100\n",
      "8/8 [==============================] - 5s 669ms/step - loss: 0.0117\n",
      "Epoch 24/100\n",
      "8/8 [==============================] - 5s 667ms/step - loss: 0.0070\n",
      "Epoch 25/100\n",
      "8/8 [==============================] - 5s 678ms/step - loss: 0.0068\n",
      "Epoch 26/100\n",
      "8/8 [==============================] - 5s 660ms/step - loss: 0.0096\n",
      "Epoch 27/100\n",
      "8/8 [==============================] - 5s 656ms/step - loss: 0.0192\n",
      "Epoch 28/100\n",
      "8/8 [==============================] - 5s 647ms/step - loss: 0.0109\n",
      "Epoch 29/100\n",
      "8/8 [==============================] - 5s 677ms/step - loss: 0.0077\n",
      "Epoch 30/100\n",
      "8/8 [==============================] - 5s 650ms/step - loss: 0.0131\n",
      "Epoch 31/100\n",
      "8/8 [==============================] - 5s 652ms/step - loss: 0.0086\n",
      "Epoch 32/100\n",
      "8/8 [==============================] - 5s 640ms/step - loss: 0.0062\n",
      "Epoch 33/100\n",
      "8/8 [==============================] - 5s 673ms/step - loss: 0.0152\n",
      "Epoch 34/100\n",
      "8/8 [==============================] - 5s 679ms/step - loss: 0.0144\n",
      "Epoch 35/100\n",
      "8/8 [==============================] - 5s 633ms/step - loss: 0.0114\n",
      "Epoch 36/100\n",
      "8/8 [==============================] - 5s 642ms/step - loss: 0.0111\n",
      "Epoch 37/100\n",
      "8/8 [==============================] - 5s 635ms/step - loss: 0.0150\n",
      "Epoch 38/100\n",
      "8/8 [==============================] - 5s 637ms/step - loss: 0.0093\n",
      "Epoch 39/100\n",
      "8/8 [==============================] - 6s 710ms/step - loss: 0.0100\n",
      "Epoch 40/100\n",
      "8/8 [==============================] - 5s 641ms/step - loss: 0.0086\n",
      "Epoch 41/100\n",
      "8/8 [==============================] - 5s 657ms/step - loss: 0.0036\n",
      "Epoch 42/100\n",
      "8/8 [==============================] - 5s 651ms/step - loss: 0.0103\n",
      "Epoch 43/100\n",
      "8/8 [==============================] - 5s 637ms/step - loss: 0.0055\n",
      "Epoch 44/100\n",
      "8/8 [==============================] - 5s 649ms/step - loss: 0.0102\n",
      "Epoch 45/100\n",
      "8/8 [==============================] - 5s 649ms/step - loss: 0.0105\n",
      "Epoch 46/100\n",
      "8/8 [==============================] - 5s 646ms/step - loss: 0.0074\n",
      "Epoch 47/100\n",
      "8/8 [==============================] - 5s 643ms/step - loss: 0.0237\n",
      "Epoch 48/100\n",
      "8/8 [==============================] - 5s 640ms/step - loss: 0.0063\n",
      "Epoch 49/100\n",
      "8/8 [==============================] - 5s 671ms/step - loss: 0.0159\n",
      "Epoch 50/100\n",
      "8/8 [==============================] - 5s 656ms/step - loss: 0.0365\n",
      "Epoch 51/100\n",
      "8/8 [==============================] - 5s 669ms/step - loss: 0.0355\n",
      "Epoch 52/100\n",
      "8/8 [==============================] - 5s 678ms/step - loss: 0.0194\n",
      "Epoch 53/100\n",
      "8/8 [==============================] - 5s 656ms/step - loss: 0.0100\n",
      "Epoch 54/100\n",
      "8/8 [==============================] - 5s 649ms/step - loss: 0.0100\n",
      "Epoch 55/100\n",
      "8/8 [==============================] - 5s 685ms/step - loss: 0.0122\n",
      "Epoch 56/100\n",
      "8/8 [==============================] - 5s 655ms/step - loss: 0.0095\n",
      "Epoch 57/100\n",
      "8/8 [==============================] - 5s 641ms/step - loss: 0.0120\n",
      "Epoch 58/100\n",
      "8/8 [==============================] - 5s 646ms/step - loss: 0.0144\n",
      "Epoch 59/100\n",
      "8/8 [==============================] - 5s 647ms/step - loss: 0.0112\n",
      "Epoch 60/100\n",
      "8/8 [==============================] - 5s 651ms/step - loss: 0.0029\n",
      "Epoch 61/100\n",
      "8/8 [==============================] - 5s 663ms/step - loss: 0.0040\n",
      "Epoch 62/100\n",
      "8/8 [==============================] - 5s 676ms/step - loss: 0.0012\n",
      "Epoch 63/100\n",
      "8/8 [==============================] - 5s 643ms/step - loss: 0.0011\n",
      "Epoch 64/100\n",
      "8/8 [==============================] - 5s 677ms/step - loss: 0.0015\n",
      "Epoch 65/100\n",
      "8/8 [==============================] - 5s 653ms/step - loss: 0.0020\n",
      "Epoch 66/100\n",
      "8/8 [==============================] - 5s 685ms/step - loss: 0.0014\n",
      "Epoch 67/100\n",
      "8/8 [==============================] - 5s 671ms/step - loss: 0.0028\n",
      "Epoch 68/100\n",
      "8/8 [==============================] - 5s 676ms/step - loss: 0.0065\n",
      "Epoch 69/100\n",
      "8/8 [==============================] - 5s 645ms/step - loss: 0.0062\n",
      "Epoch 70/100\n",
      "8/8 [==============================] - 5s 638ms/step - loss: 0.0056\n",
      "Epoch 71/100\n",
      "8/8 [==============================] - 5s 641ms/step - loss: 0.0104\n",
      "Epoch 72/100\n",
      "8/8 [==============================] - 5s 668ms/step - loss: 0.0073\n",
      "Epoch 73/100\n",
      "8/8 [==============================] - 5s 648ms/step - loss: 0.0044\n",
      "Epoch 74/100\n",
      "8/8 [==============================] - 5s 644ms/step - loss: 0.0024\n",
      "Epoch 75/100\n",
      "8/8 [==============================] - 5s 641ms/step - loss: 0.0019\n",
      "Epoch 76/100\n",
      "8/8 [==============================] - 5s 667ms/step - loss: 0.0030\n",
      "Epoch 77/100\n",
      "8/8 [==============================] - 5s 656ms/step - loss: 0.0026\n",
      "Epoch 78/100\n",
      "8/8 [==============================] - 5s 650ms/step - loss: 0.0033\n",
      "Epoch 79/100\n",
      "8/8 [==============================] - 5s 655ms/step - loss: 0.0077\n",
      "Epoch 80/100\n",
      "8/8 [==============================] - 5s 651ms/step - loss: 0.0035\n",
      "Epoch 81/100\n",
      "8/8 [==============================] - 5s 648ms/step - loss: 0.0037\n",
      "Epoch 82/100\n",
      "8/8 [==============================] - 5s 650ms/step - loss: 0.0075\n",
      "Epoch 83/100\n",
      "8/8 [==============================] - 5s 641ms/step - loss: 0.0035\n",
      "Epoch 84/100\n",
      "8/8 [==============================] - 5s 638ms/step - loss: 0.0052\n",
      "Epoch 85/100\n",
      "8/8 [==============================] - 5s 635ms/step - loss: 0.0061\n",
      "Epoch 86/100\n",
      "8/8 [==============================] - 5s 640ms/step - loss: 0.0024\n",
      "Epoch 87/100\n",
      "8/8 [==============================] - 5s 667ms/step - loss: 0.0031\n",
      "Epoch 88/100\n",
      "8/8 [==============================] - 5s 654ms/step - loss: 0.0047\n",
      "Epoch 89/100\n",
      "8/8 [==============================] - 6s 763ms/step - loss: 0.0032\n",
      "Epoch 90/100\n",
      "8/8 [==============================] - 5s 669ms/step - loss: 0.0027\n",
      "Epoch 91/100\n",
      "8/8 [==============================] - 5s 661ms/step - loss: 0.0031\n",
      "Epoch 92/100\n",
      "8/8 [==============================] - 5s 657ms/step - loss: 0.0040\n",
      "Epoch 93/100\n",
      "8/8 [==============================] - 5s 643ms/step - loss: 0.0023\n",
      "Epoch 94/100\n",
      "8/8 [==============================] - 5s 646ms/step - loss: 0.0043\n",
      "Epoch 95/100\n",
      "8/8 [==============================] - 5s 638ms/step - loss: 0.0023\n",
      "Epoch 96/100\n",
      "8/8 [==============================] - 5s 671ms/step - loss: 0.0028\n",
      "Epoch 97/100\n",
      "8/8 [==============================] - 5s 638ms/step - loss: 0.0032\n",
      "Epoch 98/100\n",
      "8/8 [==============================] - 5s 668ms/step - loss: 0.0020\n",
      "Epoch 99/100\n",
      "8/8 [==============================] - 5s 646ms/step - loss: 0.0028\n",
      "Epoch 100/100\n",
      "8/8 [==============================] - 5s 647ms/step - loss: 0.0031\n"
     ]
    },
    {
     "data": {
      "text/plain": [
       "<tensorflow.python.keras.callbacks.History at 0x7fa102b416d0>"
      ]
     },
     "execution_count": 80,
     "metadata": {},
     "output_type": "execute_result"
    }
   ],
   "source": [
    "model.fit(X_train,y_train,epochs=100,shuffle=False,batch_size=5,verbose=1)"
   ]
  },
  {
   "cell_type": "code",
   "execution_count": 81,
   "metadata": {},
   "outputs": [
    {
     "name": "stdout",
     "output_type": "stream",
     "text": [
      "1/1 [==============================] - 0s 8ms/step - loss: 0.0013\n"
     ]
    },
    {
     "data": {
      "text/plain": [
       "0.0013071218272671103"
      ]
     },
     "execution_count": 81,
     "metadata": {},
     "output_type": "execute_result"
    }
   ],
   "source": [
    "model.evaluate(X_test,y_test)"
   ]
  },
  {
   "cell_type": "code",
   "execution_count": 82,
   "metadata": {},
   "outputs": [],
   "source": [
    "predictions=model.predict(X_test)"
   ]
  },
  {
   "cell_type": "code",
   "execution_count": 83,
   "metadata": {},
   "outputs": [
    {
     "data": {
      "text/plain": [
       "array([[0.4925977 ],\n",
       "       [0.5563151 ],\n",
       "       [0.56395423],\n",
       "       [0.5780098 ],\n",
       "       [0.59628606],\n",
       "       [0.45283714],\n",
       "       [0.49178675],\n",
       "       [0.4766813 ],\n",
       "       [0.47985005],\n",
       "       [0.47967276],\n",
       "       [0.49988177],\n",
       "       [0.50217056],\n",
       "       [0.5105497 ],\n",
       "       [0.5452955 ],\n",
       "       [0.54997015],\n",
       "       [0.5713942 ],\n",
       "       [0.5823903 ]], dtype=float32)"
      ]
     },
     "execution_count": 83,
     "metadata": {},
     "output_type": "execute_result"
    }
   ],
   "source": [
    "predictions"
   ]
  },
  {
   "cell_type": "code",
   "execution_count": 84,
   "metadata": {},
   "outputs": [],
   "source": [
    "# Recover the original prices instead of the scaled version\n",
    "predicted_sales = scaler.inverse_transform(predictions)\n",
    "real_sales = scaler.inverse_transform(y_test.reshape(-1, 1))"
   ]
  },
  {
   "cell_type": "code",
   "execution_count": 85,
   "metadata": {},
   "outputs": [
    {
     "data": {
      "text/html": [
       "<div>\n",
       "<style scoped>\n",
       "    .dataframe tbody tr th:only-of-type {\n",
       "        vertical-align: middle;\n",
       "    }\n",
       "\n",
       "    .dataframe tbody tr th {\n",
       "        vertical-align: top;\n",
       "    }\n",
       "\n",
       "    .dataframe thead th {\n",
       "        text-align: right;\n",
       "    }\n",
       "</style>\n",
       "<table border=\"1\" class=\"dataframe\">\n",
       "  <thead>\n",
       "    <tr style=\"text-align: right;\">\n",
       "      <th></th>\n",
       "      <th>Real</th>\n",
       "      <th>Predicted</th>\n",
       "    </tr>\n",
       "    <tr>\n",
       "      <th>DATE</th>\n",
       "      <th></th>\n",
       "      <th></th>\n",
       "    </tr>\n",
       "  </thead>\n",
       "  <tbody>\n",
       "    <tr>\n",
       "      <th>2011-12-01</th>\n",
       "      <td>-10306.371500</td>\n",
       "      <td>3666.207275</td>\n",
       "    </tr>\n",
       "    <tr>\n",
       "      <th>2012-11-01</th>\n",
       "      <td>6826.500005</td>\n",
       "      <td>22745.716797</td>\n",
       "    </tr>\n",
       "    <tr>\n",
       "      <th>2012-12-01</th>\n",
       "      <td>14695.305020</td>\n",
       "      <td>25033.167969</td>\n",
       "    </tr>\n",
       "    <tr>\n",
       "      <th>2013-11-01</th>\n",
       "      <td>21482.947170</td>\n",
       "      <td>29241.953125</td>\n",
       "    </tr>\n",
       "    <tr>\n",
       "      <th>2013-12-01</th>\n",
       "      <td>23554.145510</td>\n",
       "      <td>34714.589844</td>\n",
       "    </tr>\n",
       "  </tbody>\n",
       "</table>\n",
       "</div>"
      ],
      "text/plain": [
       "                    Real     Predicted\n",
       "DATE                                  \n",
       "2011-12-01 -10306.371500   3666.207275\n",
       "2012-11-01   6826.500005  22745.716797\n",
       "2012-12-01  14695.305020  25033.167969\n",
       "2013-11-01  21482.947170  29241.953125\n",
       "2013-12-01  23554.145510  34714.589844"
      ]
     },
     "execution_count": 85,
     "metadata": {},
     "output_type": "execute_result"
    }
   ],
   "source": [
    "# Here I create a DataFrame of Real and Predicted values.\n",
    "sales_df = pd.DataFrame({\"Real\": real_sales.ravel(),\"Predicted\": predicted_sales.ravel()}, index = df.index[-len(real_sales): ]) \n",
    "sales_df.head()"
   ]
  },
  {
   "cell_type": "markdown",
   "metadata": {},
   "source": [
    "## **Model Evaluation**"
   ]
  },
  {
   "cell_type": "code",
   "execution_count": 86,
   "metadata": {},
   "outputs": [
    {
     "data": {
      "text/plain": [
       "<matplotlib.axes._subplots.AxesSubplot at 0x7fa102b848d0>"
      ]
     },
     "execution_count": 86,
     "metadata": {},
     "output_type": "execute_result"
    },
    {
     "data": {
      "image/png": "[encoded data removed]",
      "text/plain": [
       "<Figure size 432x288 with 1 Axes>"
      ]
     },
     "metadata": {
      "needs_background": "light"
     },
     "output_type": "display_data"
    }
   ],
   "source": [
    "sales_df.plot()"
   ]
  },
  {
   "cell_type": "code",
   "execution_count": 91,
   "metadata": {},
   "outputs": [],
   "source": [
    "mse = mean_squared_error(sales_df[\"Real\"],sales_df[\"Predicted\"])\n",
    "rmse = np.sqrt(mse)\n",
    "std = np.std(sales_df[\"Real\"])\n",
    "r2=r2_score(sales_df[\"Real\"], sales_df[\"Predicted\"])"
   ]
  },
  {
   "cell_type": "code",
   "execution_count": 92,
   "metadata": {},
   "outputs": [
    {
     "data": {
      "text/plain": [
       "117201722.30302669"
      ]
     },
     "execution_count": 92,
     "metadata": {},
     "output_type": "execute_result"
    }
   ],
   "source": [
    "mse"
   ]
  },
  {
   "cell_type": "code",
   "execution_count": 93,
   "metadata": {},
   "outputs": [
    {
     "data": {
      "text/plain": [
       "10825.974427414221"
      ]
     },
     "execution_count": 93,
     "metadata": {},
     "output_type": "execute_result"
    }
   ],
   "source": [
    "rmse"
   ]
  },
  {
   "cell_type": "code",
   "execution_count": 94,
   "metadata": {},
   "outputs": [
    {
     "data": {
      "text/plain": [
       "15007.158968142718"
      ]
     },
     "execution_count": 94,
     "metadata": {},
     "output_type": "execute_result"
    }
   ],
   "source": [
    "std"
   ]
  },
  {
   "cell_type": "code",
   "execution_count": 95,
   "metadata": {},
   "outputs": [
    {
     "data": {
      "text/plain": [
       "0.47960031160714267"
      ]
     },
     "execution_count": 95,
     "metadata": {},
     "output_type": "execute_result"
    }
   ],
   "source": [
    "r2"
   ]
  },
  {
   "cell_type": "code",
   "execution_count": 82,
   "metadata": {},
   "outputs": [],
   "source": [
    "# Create the instance of my Sequential model.\n",
    "model_two = Sequential()"
   ]
  },
  {
   "cell_type": "code",
   "execution_count": 73,
   "metadata": {},
   "outputs": [],
   "source": [
    "number_units = 1000\n",
    "dropout_fraction = 0.5"
   ]
  },
  {
   "cell_type": "code",
   "execution_count": 74,
   "metadata": {},
   "outputs": [],
   "source": [
    "# This is Layer 1.\n",
    "model_two.add(LSTM(units=number_units,return_sequences=True,input_shape=(X_train.shape[1],1)))\n",
    "model_two.add(Dropout(dropout_fraction))"
   ]
  },
  {
   "cell_type": "code",
   "execution_count": 75,
   "metadata": {},
   "outputs": [],
   "source": [
    "# This is Layer 2.\n",
    "model_two.add(LSTM(units=number_units, return_sequences=True))\n",
    "model_two.add(Dropout(dropout_fraction))"
   ]
  },
  {
   "cell_type": "code",
   "execution_count": 76,
   "metadata": {},
   "outputs": [],
   "source": [
    "# This is Layer 3.\n",
    "model_two.add(LSTM(units=number_units, return_sequences=True))\n",
    "model_two.add(Dropout(dropout_fraction))"
   ]
  },
  {
   "cell_type": "code",
   "execution_count": 77,
   "metadata": {},
   "outputs": [],
   "source": [
    "# This is Layer 4.\n",
    "model_two.add(LSTM(units=number_units))\n",
    "model_two.add(Dropout(dropout_fraction))"
   ]
  },
  {
   "cell_type": "code",
   "execution_count": 78,
   "metadata": {},
   "outputs": [],
   "source": [
    "# Here I create my output layer.\n",
    "model_two.add(Dense(1))"
   ]
  },
  {
   "cell_type": "code",
   "execution_count": 79,
   "metadata": {},
   "outputs": [],
   "source": [
    "model_two.compile(optimizer=\"adam\",loss=\"mean_squared_error\")"
   ]
  },
  {
   "cell_type": "code",
   "execution_count": 80,
   "metadata": {},
   "outputs": [
    {
     "name": "stdout",
     "output_type": "stream",
     "text": [
      "Model: \"sequential\"\n",
      "_________________________________________________________________\n",
      "Layer (type)                 Output Shape              Param #   \n",
      "=================================================================\n",
      "lstm (LSTM)                  (None, 10, 1000)          4008000   \n",
      "_________________________________________________________________\n",
      "dropout (Dropout)            (None, 10, 1000)          0         \n",
      "_________________________________________________________________\n",
      "lstm_1 (LSTM)                (None, 10, 1000)          8004000   \n",
      "_________________________________________________________________\n",
      "dropout_1 (Dropout)          (None, 10, 1000)          0         \n",
      "_________________________________________________________________\n",
      "lstm_2 (LSTM)                (None, 10, 1000)          8004000   \n",
      "_________________________________________________________________\n",
      "dropout_2 (Dropout)          (None, 10, 1000)          0         \n",
      "_________________________________________________________________\n",
      "lstm_3 (LSTM)                (None, 1000)              8004000   \n",
      "_________________________________________________________________\n",
      "dropout_3 (Dropout)          (None, 1000)              0         \n",
      "_________________________________________________________________\n",
      "dense (Dense)                (None, 1)                 1001      \n",
      "=================================================================\n",
      "Total params: 28,021,001\n",
      "Trainable params: 28,021,001\n",
      "Non-trainable params: 0\n",
      "_________________________________________________________________\n"
     ]
    }
   ],
   "source": [
    "model_two.summary()"
   ]
  },
  {
   "cell_type": "code",
   "execution_count": 81,
   "metadata": {},
   "outputs": [
    {
     "name": "stdout",
     "output_type": "stream",
     "text": [
      "Epoch 1/100\n",
      "8/8 [==============================] - 15s 2s/step - loss: 1.2272\n",
      "Epoch 2/100\n",
      "8/8 [==============================] - 19s 2s/step - loss: 0.1481\n",
      "Epoch 3/100\n",
      "8/8 [==============================] - 14s 2s/step - loss: 0.1090\n",
      "Epoch 4/100\n",
      "8/8 [==============================] - 14s 2s/step - loss: 0.0818\n",
      "Epoch 5/100\n",
      "8/8 [==============================] - 15s 2s/step - loss: 0.0640\n",
      "Epoch 6/100\n",
      "8/8 [==============================] - 11s 1s/step - loss: 0.0655\n",
      "Epoch 7/100\n",
      "8/8 [==============================] - 11s 1s/step - loss: 0.0470\n",
      "Epoch 8/100\n",
      "8/8 [==============================] - 19s 2s/step - loss: 0.0414\n",
      "Epoch 9/100\n",
      "8/8 [==============================] - 18s 2s/step - loss: 0.0486\n",
      "Epoch 10/100\n",
      "8/8 [==============================] - 16s 2s/step - loss: 0.0411\n",
      "Epoch 11/100\n",
      "8/8 [==============================] - 13s 2s/step - loss: 0.0461\n",
      "Epoch 12/100\n",
      "8/8 [==============================] - 13s 2s/step - loss: 0.0353\n",
      "Epoch 13/100\n",
      "8/8 [==============================] - 12s 2s/step - loss: 0.0436\n",
      "Epoch 14/100\n",
      "8/8 [==============================] - 10s 1s/step - loss: 0.0443\n",
      "Epoch 15/100\n",
      "8/8 [==============================] - 11s 1s/step - loss: 0.0464\n",
      "Epoch 16/100\n",
      "8/8 [==============================] - 10s 1s/step - loss: 0.0315\n",
      "Epoch 17/100\n",
      "8/8 [==============================] - 10s 1s/step - loss: 0.0537\n",
      "Epoch 18/100\n",
      "8/8 [==============================] - 10s 1s/step - loss: 0.0300\n",
      "Epoch 19/100\n",
      "8/8 [==============================] - 11s 1s/step - loss: 0.0174\n",
      "Epoch 20/100\n",
      "8/8 [==============================] - 11s 1s/step - loss: 0.0220\n",
      "Epoch 21/100\n",
      "8/8 [==============================] - 10s 1s/step - loss: 0.0226\n",
      "Epoch 22/100\n",
      "8/8 [==============================] - 10s 1s/step - loss: 0.0388\n",
      "Epoch 23/100\n",
      "8/8 [==============================] - 11s 1s/step - loss: 0.0417\n",
      "Epoch 24/100\n",
      "8/8 [==============================] - 11s 1s/step - loss: 0.0225\n",
      "Epoch 25/100\n",
      "8/8 [==============================] - 11s 1s/step - loss: 0.0185\n",
      "Epoch 26/100\n",
      "8/8 [==============================] - 18s 2s/step - loss: 0.0158\n",
      "Epoch 27/100\n",
      "8/8 [==============================] - 15s 2s/step - loss: 0.0305\n",
      "Epoch 28/100\n",
      "8/8 [==============================] - 12s 1s/step - loss: 0.0348\n",
      "Epoch 29/100\n",
      "8/8 [==============================] - 11s 1s/step - loss: 0.0184\n",
      "Epoch 30/100\n",
      "8/8 [==============================] - 12s 2s/step - loss: 0.0240\n",
      "Epoch 31/100\n",
      "8/8 [==============================] - 12s 1s/step - loss: 0.0257\n",
      "Epoch 32/100\n",
      "8/8 [==============================] - 12s 1s/step - loss: 0.0194\n",
      "Epoch 33/100\n",
      "8/8 [==============================] - 17s 2s/step - loss: 0.0164\n",
      "Epoch 34/100\n",
      "8/8 [==============================] - 18s 2s/step - loss: 0.0175\n",
      "Epoch 35/100\n",
      "8/8 [==============================] - 24s 3s/step - loss: 0.0239\n",
      "Epoch 36/100\n",
      "8/8 [==============================] - 14s 2s/step - loss: 0.0235\n",
      "Epoch 37/100\n",
      "8/8 [==============================] - 14s 2s/step - loss: 0.0214\n",
      "Epoch 38/100\n",
      "8/8 [==============================] - 13s 2s/step - loss: 0.0162\n",
      "Epoch 39/100\n",
      "8/8 [==============================] - 10s 1s/step - loss: 0.0186\n",
      "Epoch 40/100\n",
      "8/8 [==============================] - 11s 1s/step - loss: 0.0303\n",
      "Epoch 41/100\n",
      "8/8 [==============================] - 13s 2s/step - loss: 0.0166\n",
      "Epoch 42/100\n",
      "8/8 [==============================] - 15s 2s/step - loss: 0.0136\n",
      "Epoch 43/100\n",
      "8/8 [==============================] - 10s 1s/step - loss: 0.0142\n",
      "Epoch 44/100\n",
      "8/8 [==============================] - 15s 2s/step - loss: 0.0247\n",
      "Epoch 45/100\n",
      "8/8 [==============================] - 16s 2s/step - loss: 0.0327\n",
      "Epoch 46/100\n",
      "8/8 [==============================] - 18s 2s/step - loss: 0.0310\n",
      "Epoch 47/100\n",
      "8/8 [==============================] - 12s 1s/step - loss: 0.0204\n",
      "Epoch 48/100\n",
      "8/8 [==============================] - 12s 2s/step - loss: 0.0232\n",
      "Epoch 49/100\n",
      "8/8 [==============================] - 12s 1s/step - loss: 0.0198\n",
      "Epoch 50/100\n",
      "8/8 [==============================] - 17s 2s/step - loss: 0.0404\n",
      "Epoch 51/100\n",
      "8/8 [==============================] - 13s 2s/step - loss: 0.0235\n",
      "Epoch 52/100\n",
      "8/8 [==============================] - 8s 1s/step - loss: 0.0173\n",
      "Epoch 53/100\n",
      "8/8 [==============================] - 10s 1s/step - loss: 0.0137\n",
      "Epoch 54/100\n",
      "8/8 [==============================] - 9s 1s/step - loss: 0.0126\n",
      "Epoch 55/100\n",
      "8/8 [==============================] - 8s 990ms/step - loss: 0.0180\n",
      "Epoch 56/100\n",
      "8/8 [==============================] - 8s 953ms/step - loss: 0.0146\n",
      "Epoch 57/100\n",
      "8/8 [==============================] - 9s 1s/step - loss: 0.0154\n",
      "Epoch 58/100\n",
      "8/8 [==============================] - 7s 937ms/step - loss: 0.0128\n",
      "Epoch 59/100\n",
      "8/8 [==============================] - 7s 876ms/step - loss: 0.0275\n",
      "Epoch 60/100\n",
      "8/8 [==============================] - 7s 900ms/step - loss: 0.0158\n",
      "Epoch 61/100\n",
      "8/8 [==============================] - 8s 983ms/step - loss: 0.0215\n",
      "Epoch 62/100\n",
      "8/8 [==============================] - 7s 906ms/step - loss: 0.0170\n",
      "Epoch 63/100\n",
      "8/8 [==============================] - 7s 895ms/step - loss: 0.0115\n",
      "Epoch 64/100\n",
      "8/8 [==============================] - 7s 895ms/step - loss: 0.0130\n",
      "Epoch 65/100\n",
      "8/8 [==============================] - 8s 949ms/step - loss: 0.0145\n",
      "Epoch 66/100\n",
      "8/8 [==============================] - 7s 915ms/step - loss: 0.0161\n",
      "Epoch 67/100\n",
      "8/8 [==============================] - 7s 906ms/step - loss: 0.0126\n",
      "Epoch 68/100\n",
      "8/8 [==============================] - 7s 892ms/step - loss: 0.0222\n",
      "Epoch 69/100\n",
      "8/8 [==============================] - 9s 1s/step - loss: 0.0171\n",
      "Epoch 70/100\n",
      "8/8 [==============================] - 11s 1s/step - loss: 0.0241\n",
      "Epoch 71/100\n",
      "8/8 [==============================] - 9s 1s/step - loss: 0.0118\n",
      "Epoch 72/100\n",
      "8/8 [==============================] - 15s 2s/step - loss: 0.0120\n",
      "Epoch 73/100\n",
      "8/8 [==============================] - 8s 1s/step - loss: 0.0151\n",
      "Epoch 74/100\n",
      "8/8 [==============================] - 8s 1s/step - loss: 0.0060\n",
      "Epoch 75/100\n",
      "8/8 [==============================] - 8s 965ms/step - loss: 0.0092\n",
      "Epoch 76/100\n",
      "8/8 [==============================] - 8s 1s/step - loss: 0.0110\n",
      "Epoch 77/100\n",
      "8/8 [==============================] - 13s 2s/step - loss: 0.0076\n",
      "Epoch 78/100\n",
      "8/8 [==============================] - 11s 1s/step - loss: 0.0044\n",
      "Epoch 79/100\n",
      "8/8 [==============================] - 9s 1s/step - loss: 0.0097\n",
      "Epoch 80/100\n",
      "8/8 [==============================] - 8s 1000ms/step - loss: 0.0045\n",
      "Epoch 81/100\n",
      "8/8 [==============================] - 8s 963ms/step - loss: 0.0054\n",
      "Epoch 82/100\n",
      "8/8 [==============================] - 8s 938ms/step - loss: 0.0080\n",
      "Epoch 83/100\n",
      "8/8 [==============================] - 8s 961ms/step - loss: 0.0080\n",
      "Epoch 84/100\n",
      "8/8 [==============================] - 8s 1s/step - loss: 0.0204\n",
      "Epoch 85/100\n",
      "8/8 [==============================] - 8s 1s/step - loss: 0.0074\n",
      "Epoch 86/100\n",
      "8/8 [==============================] - 9s 1s/step - loss: 0.0121\n",
      "Epoch 87/100\n",
      "8/8 [==============================] - 9s 1s/step - loss: 0.0099\n",
      "Epoch 88/100\n",
      "8/8 [==============================] - 8s 1s/step - loss: 0.0066\n",
      "Epoch 89/100\n",
      "8/8 [==============================] - 8s 941ms/step - loss: 0.0071\n",
      "Epoch 90/100\n",
      "8/8 [==============================] - 8s 965ms/step - loss: 0.0073\n",
      "Epoch 91/100\n",
      "8/8 [==============================] - 8s 1s/step - loss: 0.0049\n",
      "Epoch 92/100\n",
      "8/8 [==============================] - 8s 977ms/step - loss: 0.0046\n",
      "Epoch 93/100\n",
      "8/8 [==============================] - 8s 954ms/step - loss: 0.0042\n",
      "Epoch 94/100\n",
      "8/8 [==============================] - 8s 969ms/step - loss: 0.0080\n",
      "Epoch 95/100\n",
      "8/8 [==============================] - 9s 1s/step - loss: 0.0154\n",
      "Epoch 96/100\n",
      "8/8 [==============================] - 8s 1s/step - loss: 0.0118\n",
      "Epoch 97/100\n",
      "8/8 [==============================] - 9s 1s/step - loss: 0.0163\n",
      "Epoch 98/100\n",
      "8/8 [==============================] - 8s 1s/step - loss: 0.0162\n",
      "Epoch 99/100\n",
      "8/8 [==============================] - 9s 1s/step - loss: 0.0040\n",
      "Epoch 100/100\n",
      "8/8 [==============================] - 8s 965ms/step - loss: 0.0071\n"
     ]
    },
    {
     "data": {
      "text/plain": [
       "<tensorflow.python.keras.callbacks.History at 0x7fe54faa42d0>"
      ]
     },
     "execution_count": 81,
     "metadata": {},
     "output_type": "execute_result"
    }
   ],
   "source": [
    "model_two.fit(X_train,y_train,epochs=100,shuffle=False,batch_size=5,verbose=1)"
   ]
  },
  {
   "cell_type": "code",
   "execution_count": 81,
   "metadata": {},
   "outputs": [
    {
     "name": "stdout",
     "output_type": "stream",
     "text": [
      "1/1 [==============================] - 0s 8ms/step - loss: 0.0013\n"
     ]
    },
    {
     "data": {
      "text/plain": [
       "0.0013071218272671103"
      ]
     },
     "execution_count": 81,
     "metadata": {},
     "output_type": "execute_result"
    }
   ],
   "source": [
    "model_two.evaluate(X_test,y_test)"
   ]
  },
  {
   "cell_type": "code",
   "execution_count": 82,
   "metadata": {},
   "outputs": [],
   "source": [
    "predictions=model_two.predict(X_test)"
   ]
  },
  {
   "cell_type": "code",
   "execution_count": 83,
   "metadata": {},
   "outputs": [
    {
     "data": {
      "text/plain": [
       "array([[0.4925977 ],\n",
       "       [0.5563151 ],\n",
       "       [0.56395423],\n",
       "       [0.5780098 ],\n",
       "       [0.59628606],\n",
       "       [0.45283714],\n",
       "       [0.49178675],\n",
       "       [0.4766813 ],\n",
       "       [0.47985005],\n",
       "       [0.47967276],\n",
       "       [0.49988177],\n",
       "       [0.50217056],\n",
       "       [0.5105497 ],\n",
       "       [0.5452955 ],\n",
       "       [0.54997015],\n",
       "       [0.5713942 ],\n",
       "       [0.5823903 ]], dtype=float32)"
      ]
     },
     "execution_count": 83,
     "metadata": {},
     "output_type": "execute_result"
    }
   ],
   "source": [
    "predictions"
   ]
  },
  {
   "cell_type": "code",
   "execution_count": 84,
   "metadata": {},
   "outputs": [],
   "source": [
    "# Recover the original prices instead of the scaled version\n",
    "predicted_sales = scaler.inverse_transform(predictions)\n",
    "real_sales = scaler.inverse_transform(y_test.reshape(-1, 1))"
   ]
  },
  {
   "cell_type": "code",
   "execution_count": 85,
   "metadata": {},
   "outputs": [
    {
     "data": {
      "text/html": [
       "<div>\n",
       "<style scoped>\n",
       "    .dataframe tbody tr th:only-of-type {\n",
       "        vertical-align: middle;\n",
       "    }\n",
       "\n",
       "    .dataframe tbody tr th {\n",
       "        vertical-align: top;\n",
       "    }\n",
       "\n",
       "    .dataframe thead th {\n",
       "        text-align: right;\n",
       "    }\n",
       "</style>\n",
       "<table border=\"1\" class=\"dataframe\">\n",
       "  <thead>\n",
       "    <tr style=\"text-align: right;\">\n",
       "      <th></th>\n",
       "      <th>Real</th>\n",
       "      <th>Predicted</th>\n",
       "    </tr>\n",
       "    <tr>\n",
       "      <th>DATE</th>\n",
       "      <th></th>\n",
       "      <th></th>\n",
       "    </tr>\n",
       "  </thead>\n",
       "  <tbody>\n",
       "    <tr>\n",
       "      <th>2011-12-01</th>\n",
       "      <td>-10306.371500</td>\n",
       "      <td>3666.207275</td>\n",
       "    </tr>\n",
       "    <tr>\n",
       "      <th>2012-11-01</th>\n",
       "      <td>6826.500005</td>\n",
       "      <td>22745.716797</td>\n",
       "    </tr>\n",
       "    <tr>\n",
       "      <th>2012-12-01</th>\n",
       "      <td>14695.305020</td>\n",
       "      <td>25033.167969</td>\n",
       "    </tr>\n",
       "    <tr>\n",
       "      <th>2013-11-01</th>\n",
       "      <td>21482.947170</td>\n",
       "      <td>29241.953125</td>\n",
       "    </tr>\n",
       "    <tr>\n",
       "      <th>2013-12-01</th>\n",
       "      <td>23554.145510</td>\n",
       "      <td>34714.589844</td>\n",
       "    </tr>\n",
       "  </tbody>\n",
       "</table>\n",
       "</div>"
      ],
      "text/plain": [
       "                    Real     Predicted\n",
       "DATE                                  \n",
       "2011-12-01 -10306.371500   3666.207275\n",
       "2012-11-01   6826.500005  22745.716797\n",
       "2012-12-01  14695.305020  25033.167969\n",
       "2013-11-01  21482.947170  29241.953125\n",
       "2013-12-01  23554.145510  34714.589844"
      ]
     },
     "execution_count": 85,
     "metadata": {},
     "output_type": "execute_result"
    }
   ],
   "source": [
    "# Here I create a DataFrame of Real and Predicted values.\n",
    "sales_df = pd.DataFrame({\"Real\": real_sales.ravel(),\"Predicted\": predicted_sales.ravel()}, index = df.index[-len(real_sales): ]) \n",
    "sales_df.head()"
   ]
  },
  {
   "cell_type": "markdown",
   "metadata": {},
   "source": [
    "## **Model Evaluation**"
   ]
  },
  {
   "cell_type": "code",
   "execution_count": 86,
   "metadata": {},
   "outputs": [
    {
     "data": {
      "text/plain": [
       "<matplotlib.axes._subplots.AxesSubplot at 0x7fa102b848d0>"
      ]
     },
     "execution_count": 86,
     "metadata": {},
     "output_type": "execute_result"
    },
    {
     "data": {
      "image/png": "[encoded data removed]",
      "text/plain": [
       "<Figure size 432x288 with 1 Axes>"
      ]
     },
     "metadata": {
      "needs_background": "light"
     },
     "output_type": "display_data"
    }
   ],
   "source": [
    "sales_df.plot()"
   ]
  },
  {
   "cell_type": "code",
   "execution_count": 46,
   "metadata": {},
   "outputs": [],
   "source": [
    "main_df=main_df.sort_index()"
   ]
  },
  {
   "cell_type": "code",
   "execution_count": 48,
   "metadata": {},
   "outputs": [
    {
     "data": {
      "text/html": [
       "<div>\n",
       "<style scoped>\n",
       "    .dataframe tbody tr th:only-of-type {\n",
       "        vertical-align: middle;\n",
       "    }\n",
       "\n",
       "    .dataframe tbody tr th {\n",
       "        vertical-align: top;\n",
       "    }\n",
       "\n",
       "    .dataframe thead th {\n",
       "        text-align: right;\n",
       "    }\n",
       "</style>\n",
       "<table border=\"1\" class=\"dataframe\">\n",
       "  <thead>\n",
       "    <tr style=\"text-align: right;\">\n",
       "      <th></th>\n",
       "      <th>NYT_sentiment</th>\n",
       "      <th>gas_prices</th>\n",
       "      <th>consumer_sentiments</th>\n",
       "      <th>unemployment_rate</th>\n",
       "      <th>CPI</th>\n",
       "      <th>Retail_Index_Returns</th>\n",
       "      <th>Consumer_debt_service</th>\n",
       "      <th>GDP_growth</th>\n",
       "      <th>sales</th>\n",
       "      <th>GDP</th>\n",
       "      <th>Gold_Returns</th>\n",
       "    </tr>\n",
       "    <tr>\n",
       "      <th>DATE</th>\n",
       "      <th></th>\n",
       "      <th></th>\n",
       "      <th></th>\n",
       "      <th></th>\n",
       "      <th></th>\n",
       "      <th></th>\n",
       "      <th></th>\n",
       "      <th></th>\n",
       "      <th></th>\n",
       "      <th></th>\n",
       "      <th></th>\n",
       "    </tr>\n",
       "  </thead>\n",
       "  <tbody>\n",
       "    <tr>\n",
       "      <th>1992-11-01</th>\n",
       "      <td>0.812100</td>\n",
       "      <td>1.11120</td>\n",
       "      <td>85.3</td>\n",
       "      <td>7.4</td>\n",
       "      <td>-3.664766</td>\n",
       "      <td>0.000000</td>\n",
       "      <td>4.660212</td>\n",
       "      <td>4.4</td>\n",
       "      <td>-18182.99304</td>\n",
       "      <td>-576.109447</td>\n",
       "      <td>0.000000</td>\n",
       "    </tr>\n",
       "    <tr>\n",
       "      <th>1992-12-01</th>\n",
       "      <td>0.458857</td>\n",
       "      <td>1.07750</td>\n",
       "      <td>91.0</td>\n",
       "      <td>7.4</td>\n",
       "      <td>-55.865683</td>\n",
       "      <td>-0.044113</td>\n",
       "      <td>4.660212</td>\n",
       "      <td>4.4</td>\n",
       "      <td>-143836.96580</td>\n",
       "      <td>-4628.850176</td>\n",
       "      <td>-0.770981</td>\n",
       "    </tr>\n",
       "    <tr>\n",
       "      <th>1993-11-01</th>\n",
       "      <td>0.762175</td>\n",
       "      <td>1.06640</td>\n",
       "      <td>81.2</td>\n",
       "      <td>6.6</td>\n",
       "      <td>-4.077295</td>\n",
       "      <td>0.058275</td>\n",
       "      <td>4.755414</td>\n",
       "      <td>2.6</td>\n",
       "      <td>-15860.78098</td>\n",
       "      <td>-676.804025</td>\n",
       "      <td>0.069956</td>\n",
       "    </tr>\n",
       "    <tr>\n",
       "      <th>1993-12-01</th>\n",
       "      <td>0.500550</td>\n",
       "      <td>1.01400</td>\n",
       "      <td>88.2</td>\n",
       "      <td>6.5</td>\n",
       "      <td>-49.461028</td>\n",
       "      <td>0.038244</td>\n",
       "      <td>4.755414</td>\n",
       "      <td>2.6</td>\n",
       "      <td>-125760.23380</td>\n",
       "      <td>-4202.521831</td>\n",
       "      <td>0.114896</td>\n",
       "    </tr>\n",
       "    <tr>\n",
       "      <th>1994-11-01</th>\n",
       "      <td>0.667100</td>\n",
       "      <td>1.11575</td>\n",
       "      <td>91.6</td>\n",
       "      <td>5.6</td>\n",
       "      <td>-4.587534</td>\n",
       "      <td>-0.075080</td>\n",
       "      <td>5.120072</td>\n",
       "      <td>4.1</td>\n",
       "      <td>-12429.20455</td>\n",
       "      <td>-618.354534</td>\n",
       "      <td>0.058500</td>\n",
       "    </tr>\n",
       "  </tbody>\n",
       "</table>\n",
       "</div>"
      ],
      "text/plain": [
       "            NYT_sentiment  gas_prices  consumer_sentiments  unemployment_rate  \\\n",
       "DATE                                                                            \n",
       "1992-11-01       0.812100     1.11120                 85.3                7.4   \n",
       "1992-12-01       0.458857     1.07750                 91.0                7.4   \n",
       "1993-11-01       0.762175     1.06640                 81.2                6.6   \n",
       "1993-12-01       0.500550     1.01400                 88.2                6.5   \n",
       "1994-11-01       0.667100     1.11575                 91.6                5.6   \n",
       "\n",
       "                  CPI  Retail_Index_Returns  Consumer_debt_service  \\\n",
       "DATE                                                                 \n",
       "1992-11-01  -3.664766              0.000000               4.660212   \n",
       "1992-12-01 -55.865683             -0.044113               4.660212   \n",
       "1993-11-01  -4.077295              0.058275               4.755414   \n",
       "1993-12-01 -49.461028              0.038244               4.755414   \n",
       "1994-11-01  -4.587534             -0.075080               5.120072   \n",
       "\n",
       "            GDP_growth         sales          GDP  Gold_Returns  \n",
       "DATE                                                             \n",
       "1992-11-01         4.4  -18182.99304  -576.109447      0.000000  \n",
       "1992-12-01         4.4 -143836.96580 -4628.850176     -0.770981  \n",
       "1993-11-01         2.6  -15860.78098  -676.804025      0.069956  \n",
       "1993-12-01         2.6 -125760.23380 -4202.521831      0.114896  \n",
       "1994-11-01         4.1  -12429.20455  -618.354534      0.058500  "
      ]
     },
     "execution_count": 48,
     "metadata": {},
     "output_type": "execute_result"
    }
   ],
   "source": [
    "main_df.head()"
   ]
  },
  {
   "cell_type": "code",
   "execution_count": 83,
   "metadata": {},
   "outputs": [
    {
     "data": {
      "text/plain": [
       "DATE\n",
       "1992-11-01    0.000000\n",
       "1992-12-01   -0.044113\n",
       "1993-11-01    0.058275\n",
       "1993-12-01    0.038244\n",
       "1994-11-01   -0.075080\n",
       "1994-12-01   -0.089986\n",
       "1995-11-01   -0.042830\n",
       "1995-12-01   -0.043522\n",
       "1996-11-01    0.029401\n",
       "1996-12-01    0.035718\n",
       "1997-11-01    0.112995\n",
       "1997-12-01    0.133280\n",
       "1998-11-01   -0.016665\n",
       "1998-12-01   -0.056342\n",
       "1999-11-01    0.059576\n",
       "1999-12-01    0.080566\n",
       "2000-11-01    0.129428\n",
       "2000-12-01    0.076332\n",
       "2001-11-01    0.003910\n",
       "2001-12-01    0.072566\n",
       "2002-11-01   -0.078321\n",
       "2002-12-01   -0.127549\n",
       "2003-11-01   -0.152300\n",
       "2003-12-01   -0.146685\n",
       "2004-11-01   -0.093708\n",
       "2004-12-01   -0.071740\n",
       "2005-11-01    0.118431\n",
       "2005-12-01    0.122963\n",
       "2006-11-01   -0.094634\n",
       "2006-12-01   -0.082784\n",
       "2007-11-01   -0.080628\n",
       "2007-12-01   -0.080666\n",
       "2008-11-01    0.138309\n",
       "2008-12-01    0.071056\n",
       "2009-11-01   -0.135748\n",
       "2009-12-01   -0.047839\n",
       "2010-11-01    0.084553\n",
       "2010-12-01    0.013654\n",
       "2011-11-01   -0.034207\n",
       "2011-12-01    0.015564\n",
       "2012-11-01    0.021302\n",
       "2012-12-01   -0.008085\n",
       "2013-11-01    0.006162\n",
       "2013-12-01    0.003981\n",
       "2014-11-01    0.096160\n",
       "2014-12-01    0.130417\n",
       "2015-11-01    0.133431\n",
       "2015-12-01    0.089336\n",
       "2016-11-01    0.013262\n",
       "2016-12-01    0.035860\n",
       "2017-11-01   -0.084076\n",
       "2017-12-01   -0.102262\n",
       "2018-11-01    0.045096\n",
       "2018-12-01    0.042570\n",
       "2019-11-01    0.010350\n",
       "2019-12-01    0.003374\n",
       "Name: Retail_Index_Returns, dtype: float64"
      ]
     },
     "execution_count": 83,
     "metadata": {},
     "output_type": "execute_result"
    }
   ],
   "source": [
    "ma"
   ]
  },
  {
   "cell_type": "markdown",
   "metadata": {},
   "source": [
    "## **Trade Alogrithm**"
   ]
  },
  {
   "cell_type": "code",
   "execution_count": 78,
   "metadata": {},
   "outputs": [
    {
     "name": "stdout",
     "output_type": "stream",
     "text": [
      "1992-11-01 00:00:00 0.8121\n",
      "1992-12-01 00:00:00 0.458857143\n",
      "1993-11-01 00:00:00 0.762175\n",
      "1993-12-01 00:00:00 0.50055\n",
      "1994-11-01 00:00:00 0.6671\n",
      "1994-12-01 00:00:00 0.366666667\n",
      "1995-11-01 00:00:00 0.485533333\n",
      "1995-12-01 00:00:00 -0.133071429\n",
      "1996-11-01 00:00:00 0.7226\n",
      "1996-12-01 00:00:00 0.378528571\n",
      "1997-11-01 00:00:00 0.85595\n",
      "1997-12-01 00:00:00 0.3624\n",
      "1998-11-01 00:00:00 0.348533333\n",
      "1998-12-01 00:00:00 0.684171429\n",
      "1999-11-01 00:00:00 0.3739\n",
      "1999-12-01 00:00:00 0.393728571\n",
      "2000-11-01 00:00:00 0.3271\n",
      "2000-12-01 00:00:00 0.1875125\n",
      "2001-11-01 00:00:00 -0.16125\n",
      "2001-12-01 00:00:00 -0.107625\n",
      "2002-11-01 00:00:00 0.5859\n",
      "2002-12-01 00:00:00 0.138055556\n",
      "2003-11-01 00:00:00 0.5789\n",
      "2003-12-01 00:00:00 0.400457143\n",
      "2004-11-01 00:00:00 0.05795\n",
      "2004-12-01 00:00:00 0.58515\n",
      "2005-11-01 00:00:00 0.408385714\n",
      "2005-12-01 00:00:00 0.909933333\n",
      "2006-11-01 00:00:00 0.041875\n",
      "2006-12-01 00:00:00 0.155633333\n",
      "2007-11-01 00:00:00 0.085457143\n",
      "2007-12-01 00:00:00 0.151166667\n",
      "2008-11-01 00:00:00 0.41938\n",
      "2008-12-01 00:00:00 0.27562\n",
      "2009-11-01 00:00:00 0.29765\n",
      "2009-12-01 00:00:00 0.523625\n",
      "2010-11-01 00:00:00 0.37835\n",
      "2010-12-01 00:00:00 0.144425\n",
      "2011-11-01 00:00:00 0.0\n",
      "2011-12-01 00:00:00 0.1424375\n",
      "2012-11-01 00:00:00 0.149275\n",
      "2012-12-01 00:00:00 0.382016667\n",
      "2013-11-01 00:00:00 0.4582\n",
      "2013-12-01 00:00:00 -0.298725\n",
      "2014-11-01 00:00:00 0.115883333\n",
      "2014-12-01 00:00:00 0.245875\n",
      "2015-11-01 00:00:00 0.388111111\n",
      "2015-12-01 00:00:00 -0.4215\n",
      "2016-11-01 00:00:00 0.0\n",
      "2016-12-01 00:00:00 0.30265\n",
      "2017-11-01 00:00:00 0.49942\n",
      "2017-12-01 00:00:00 0.0\n",
      "2018-11-01 00:00:00 0.327625\n",
      "2018-12-01 00:00:00 0.3466\n",
      "2019-11-01 00:00:00 0.0\n",
      "2019-12-01 00:00:00 0.222725\n"
     ]
    }
   ],
   "source": [
    "for index,row in main_df.iterrows():\n",
    "    print(row[0])"
   ]
  },
  {
   "cell_type": "code",
   "execution_count": 49,
   "metadata": {},
   "outputs": [],
   "source": [
    "sales_median=main_df[\"sales\"].median()"
   ]
  },
  {
   "cell_type": "code",
   "execution_count": 50,
   "metadata": {},
   "outputs": [
    {
     "data": {
      "text/plain": [
       "-4160.9791695"
      ]
     },
     "execution_count": 50,
     "metadata": {},
     "output_type": "execute_result"
    }
   ],
   "source": [
    "sales_median"
   ]
  },
  {
   "cell_type": "code",
   "execution_count": 56,
   "metadata": {},
   "outputs": [],
   "source": [
    "#Good Code.\n",
    "test_df=pd.DataFrame({\"Predictions\":main_df[\"Predictions\"],\"Retail_Index_Returns\":main_df[\"Retail_Index_Returns\"],\"Retail_Shift\":main_df[\"Retail_Index_Returns\"].shift(-1),\"Gold_Returns\":main_df[\"Gold_Returns\"],\"Gold_Shift\":main_df[\"Gold_Returns\"].shift(-1)})"
   ]
  },
  {
   "cell_type": "code",
   "execution_count": null,
   "metadata": {},
   "outputs": [],
   "source": [
    "#Good Code.\n",
    "def signal(prediction):\n",
    "    sales_median=main_df[\"sales\"].median()\n",
    "    if prediction <= sales_median:\n",
    "        return(-1)\n",
    "    elif prediction > sales_median:\n",
    "        return(1)   "
   ]
  },
  {
   "cell_type": "code",
   "execution_count": 55,
   "metadata": {},
   "outputs": [
    {
     "data": {
      "text/plain": [
       "-0.0441131545182379"
      ]
     },
     "execution_count": 55,
     "metadata": {},
     "output_type": "execute_result"
    }
   ],
   "source": [
    "main_df[\"Retail_Index_Returns\"][1] + main_df[\"Retail_Index_Returns\"][0]"
   ]
  },
  {
   "cell_type": "code",
   "execution_count": null,
   "metadata": {},
   "outputs": [],
   "source": []
  },
  {
   "cell_type": "code",
   "execution_count": null,
   "metadata": {},
   "outputs": [],
   "source": [
    "\"\"\"def back_test(predictions):\n",
    "    initial_investment=10000\n",
    "    final_returns=[]\n",
    " for x in predictions:\n",
    "        signal=signal(x)\n",
    "        if signal = 1:\n",
    "            invest_return=initial_investment* (main_df[\"Retail_Index_returns\"][0] #The retail index return that relates to that month target month.\n",
    "        elif signal = -1:\n",
    "            invest_return=initial_investment* #The gold index return that relates to that target month.\"\"\"\n",
    "\n"
   ]
  },
  {
   "cell_type": "code",
   "execution_count": 80,
   "metadata": {},
   "outputs": [
    {
     "ename": "SyntaxError",
     "evalue": "invalid syntax (<ipython-input-80-203e56e731f9>, line 7)",
     "output_type": "error",
     "traceback": [
      "\u001b[0;36m  File \u001b[0;32m\"<ipython-input-80-203e56e731f9>\"\u001b[0;36m, line \u001b[0;32m7\u001b[0m\n\u001b[0;31m    elif signal == -1:\u001b[0m\n\u001b[0m       ^\u001b[0m\n\u001b[0;31mSyntaxError\u001b[0m\u001b[0;31m:\u001b[0m invalid syntax\n"
     ]
    }
   ],
   "source": [
    "\n"
   ]
  },
  {
   "cell_type": "code",
   "execution_count": null,
   "metadata": {},
   "outputs": [],
   "source": [
    "# Good Code.\n",
    "initial_investment=10000\n",
    "final_returns=[]\n",
    "for index,row in main_df.iterrows():\n",
    "    signal=signal(row[0])\n",
    "    if signal == 1:\n",
    "        invest_return=initial_investment * (row[1]+row[2])\n",
    "        final_returns.append(invest_return)\n",
    "    elif signal == -1:\n",
    "        invest_return=initial_investment * (row[3]+row[4])\n",
    "        final_returns.append(invest_return)\n",
    "    test_df=test_df({\"Return of Investment\":final_returns})"
   ]
  },
  {
   "cell_type": "code",
   "execution_count": null,
   "metadata": {},
   "outputs": [],
   "source": [
    "# Take the predictions that Nathalie has or the best model, all the predictions it made from the past.\n",
    "# Run those with this function: for loop through the predictions using the function, each result builds a df of 1 (buy retail) and -1 (buy gold).\n",
    "# Pull retail index data and calculate return profit/losses for each year.\n",
    "\n",
    "def back_test(predictions):\n",
    "    initial_investment=10000\n",
    "    final_returns=[]\n",
    "    for x in predictions:\n",
    "        signal=signal(x)\n",
    "        if signal = 1:\n",
    "            invest_return=initial_investment* (main_df[\"Retail_Index_returns\"][0] #The retail index return that relates to that month target month.\n",
    "        elif signal = -1:\n",
    "            invest_return=initial_investment* #The gold index return that relates to that target month.\n"
   ]
  },
  {
   "cell_type": "code",
   "execution_count": null,
   "metadata": {},
   "outputs": [],
   "source": [
    "back_test(test_df[\"Predictions\"])"
   ]
  },
  {
   "cell_type": "code",
   "execution_count": null,
   "metadata": {},
   "outputs": [],
   "source": [
    "import os\n",
    "import dotenv\n"
   ]
  },
  {
   "cell_type": "code",
   "execution_count": null,
   "metadata": {},
   "outputs": [],
   "source": [
    "    kraken_public_key = os.getenv(\"KRAKEN_PUBLIC_KEY\")\n",
    "    kraken_secret_key = os.getenv(\"KRAKEN_SECRET_KEY\")\n",
    "    kraken = ccxt.kraken({\"apiKey\": kraken_public_key, \"secret\": kraken_secret_key})\n",
    "\n",
    "    close = kraken.fetch_ticker(\"BTC/USD\")[\"close\"]\n",
    "    datetime = kraken.fetch_ticker(\"BTC/USD\")[\"datetime\"]\n",
    "    df = pd.DataFrame({\"close\": [close]})\n",
    "    df.index = pd.to_datetime([datetime])\n",
    "    return df"
   ]
  },
  {
   "cell_type": "code",
   "execution_count": null,
   "metadata": {},
   "outputs": [],
   "source": []
  }
 ],
 "metadata": {
  "kernelspec": {
   "display_name": "Python 3",
   "language": "python",
   "name": "python3"
  },
  "language_info": {
   "codemirror_mode": {
    "name": "ipython",
    "version": 3
   },
   "file_extension": ".py",
   "mimetype": "text/x-python",
   "name": "python",
   "nbconvert_exporter": "python",
   "pygments_lexer": "ipython3",
   "version": "3.7.6"
  }
 },
 "nbformat": 4,
 "nbformat_minor": 4
}
